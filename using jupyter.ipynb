{
 "cells": [
  {
   "cell_type": "markdown",
   "id": "b8a36b59",
   "metadata": {},
   "source": [
    "# My Jupyter Notebook on IBM Watson Studio"
   ]
  },
  {
   "cell_type": "markdown",
   "id": "7b0a7005",
   "metadata": {},
   "source": [
    "**Funi Liu** student"
   ]
  },
  {
   "cell_type": "markdown",
   "id": "e1f37e41",
   "metadata": {},
   "source": [
    "I am interested in data science because I like using statistical method or machine learning algorithm to solve real problem, and provide some advice to others by programming."
   ]
  },
  {
   "cell_type": "markdown",
   "id": "bd50aeba",
   "metadata": {},
   "source": [
    "This is the code of reversing linked list."
   ]
  },
  {
   "cell_type": "code",
   "execution_count": 2,
   "id": "bee080fe",
   "metadata": {},
   "outputs": [],
   "source": [
    "def reverseList(self, head):\n",
    "    prev, curr = None, head\n",
    "    while curr is not None:\n",
    "        next = curr.next\n",
    "        curr.next = prev\n",
    "        prev = curr\n",
    "        curr = next\n",
    "    return prev"
   ]
  },
  {
   "cell_type": "markdown",
   "id": "cdba0c59",
   "metadata": {},
   "source": [
    "![jupyter](https://img-blog.csdnimg.cn/img_convert/cfa06490b7aab6c6b6b4e6f63b0a4ae5.png)\n",
    "[bee a beautiful super star](https://www.bing.com/images/search?q=%e9%83%ad%e7%a2%a7%e5%a9%b7%e5%9b%be%e7%89%87&qpvt=%e9%83%ad%e7%a2%a7%e5%a9%b7%e5%9b%be%e7%89%87&form=IGRE&first=1&tsc=ImageHoverTitle)  \n",
    "<table border=\"1\">\n",
    "   <tr>\n",
    "     <th>名称</th>\n",
    "     <th>官网</th>\n",
    "     <th>性质</th>\n",
    "   </tr>\n",
    "   <tr>\n",
    "     <td>C语言中文网</td>\n",
    "     <td>http://c.biancheng.net/</td>\n",
    "     <td>教育</td>\n",
    "   </tr>\n",
    "    <tr>\n",
    "     <td>百度</td>\n",
    "     <td>http://www.baidu.com/</td>\n",
    "     <td>搜索</td>\n",
    "     </tr>\n",
    "   <tr>\n",
    "      <td>当当</td>\n",
    "     <td>http://www.dangdang.com/</td>\n",
    "      <td>图书</td>\n",
    "    </tr>\n",
    "</table>"
   ]
  }
 ],
 "metadata": {
  "kernelspec": {
   "display_name": "Python 3 (ipykernel)",
   "language": "python",
   "name": "python3"
  },
  "language_info": {
   "codemirror_mode": {
    "name": "ipython",
    "version": 3
   },
   "file_extension": ".py",
   "mimetype": "text/x-python",
   "name": "python",
   "nbconvert_exporter": "python",
   "pygments_lexer": "ipython3",
   "version": "3.9.12"
  }
 },
 "nbformat": 4,
 "nbformat_minor": 5
}
