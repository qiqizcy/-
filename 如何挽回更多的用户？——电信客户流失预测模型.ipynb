{
 "cells": [
  {
   "cell_type": "markdown",
   "id": "2a8f0fb5",
   "metadata": {},
   "source": [
    "# 明确分析问题\n",
    "* 哪些用户可能会流失？\n",
    "* 流失概率更高的用户有什么共同特征？"
   ]
  },
  {
   "cell_type": "markdown",
   "id": "a05824d6",
   "metadata": {},
   "source": [
    "## **目录**  \n",
    "**一、导入实验所需要的库和数据文件**  \n",
    " 1.导入库  \n",
    " 2.导入数据  \n",
    " 3.查看数据集信息  \n",
    "**二、数据处理**  \n",
    " 1.查找缺失值  \n",
    " 2.查看数据类型  \n",
    " 3.转换类型  \n",
    " 4.处理缺失值  \n",
    " 5.数据替换  \n",
    "**三、数据探索**  \n",
    " 1.查看流失客户占比  \n",
    " 2.性别、老年人、配偶、亲属对客户流失率的影响  \n",
    " 3.提取特征和特征编码  \n",
    " 4.相关性矩阵  \n",
    " 5.热力图  \n",
    " 6.one-hot编码  \n",
    " 7.电信用户是否流失与各变量之间的相关性  \n",
    " 8.网络安全服务、在线备份业务、设备保护业务、技术支持服务、网络电视、网络电影和无网络服务对客户流失率的影响  \n",
    " 9.签订合同方式对客户流失率的影响  \n",
    " 10.付款方式对客户流失率的影响  \n",
    "**四、数据预处理**   \n",
    " 1.剔除无关变量  \n",
    " 2.标准化数值型变量  \n",
    " 3.检查异常值  \n",
    " 4.替换部分字段  \n",
    " 5.类别型变量编码  \n",
    "**五、构建模型**  \n",
    " 1.建立训练数据集和测试数据集  \n",
    " 2.选择机器学习算法  \n",
    " 3.训练模型  \n",
    " 4.评估模型  \n",
    "**六、模型预测**  \n",
    "**七、结论**"
   ]
  },
  {
   "cell_type": "markdown",
   "id": "cc15d556",
   "metadata": {},
   "source": [
    "## 一、导入实验所需的库和数据文件"
   ]
  },
  {
   "cell_type": "markdown",
   "id": "fd7384e5",
   "metadata": {},
   "source": [
    "### 1. 导入库"
   ]
  },
  {
   "cell_type": "code",
   "execution_count": 5,
   "id": "c3270495",
   "metadata": {},
   "outputs": [],
   "source": [
    "#导入数据分析相关的库\n",
    "import numpy as np\n",
    "import pandas as pd\n",
    "import os\n",
    "\n",
    "#导入绘图与可视化相关的库\n",
    "import matplotlib.pyplot as plt\n",
    "import seaborn as sns\n",
    "from pylab import rcParams \n",
    "#pylot使用rc配置文件来自定义图形的各种默认属性，称之为rc配置或rc参数。\n",
    "#通过rc参数可以修改默认的属性，包括窗体大小、每英寸的点数、线条宽度、颜色、样式、坐标轴、坐标和网络属性、文本、字体等。\n",
    "\n",
    "#导入机器学习相关的库\n",
    "import sklearn\n",
    "from sklearn import preprocessing\n",
    "from sklearn.preprocessing import LabelEncoder #编码转换\n",
    "from sklearn.preprocessing import StandardScaler #标准化处理\n",
    "from sklearn.model_selection import StratifiedShuffleSplit #划分数据集\n",
    "from sklearn.ensemble import RandomForestClassifier #随机森林\n",
    "from sklearn.svm import SVC,LinearSVC #支持向量机\n",
    "from sklearn.linear_model import LogisticRegression #逻辑回归\n",
    "from sklearn.neighbors import KNeighborsClassifier #KNN算法\n",
    "from sklearn.naive_bayes import GaussianNB #朴素贝叶斯\n",
    "from sklearn.tree import DecisionTreeClassifier #决策树分类器\n",
    "# 下面四个是使用了提升方法的集成模型\n",
    "from xgboost import XGBClassifier\n",
    "from catboost import CatBoostClassifier \n",
    "from sklearn.ensemble import AdaBoostClassifier\n",
    "from sklearn.ensemble import GradientBoostingClassifier\n",
    "\n",
    "#导入度量模型好坏的测度的库\n",
    "from sklearn.metrics import classification_report,precision_score,recall_score,f1_score\n",
    "from sklearn.metrics import confusion_matrix #混淆矩阵\n",
    "from sklearn.model_selection import GridSearchCV #网格搜索\n",
    "from sklearn.metrics import make_scorer #这个函数封装了用于GridSearchCV和cross_val_score的评分函数，它接受一个评分函数，如accuracy_score、mean_squared_error、adjusted_rand_index或average_precision，并返回一个可调用的值，该值对学习器的输出进行评分。\n",
    "from sklearn.ensemble import VotingClassifier #提供少数服从多数的投票方法\n",
    "\n",
    "from sklearn.decomposition import PCA #降维\n",
    "from sklearn.cluster import KMeans #K均值聚类\n",
    "from sklearn.metrics import silhouette_score #轮廓系数，用于评价聚类的好坏"
   ]
  },
  {
   "cell_type": "markdown",
   "id": "ad07b580",
   "metadata": {},
   "source": [
    "### 2. 导入数据"
   ]
  },
  {
   "cell_type": "code",
   "execution_count": 8,
   "id": "9d103883",
   "metadata": {},
   "outputs": [],
   "source": [
    "data = pd.read_csv('E:/Jupyter_file/我的项目/如何挽回更多的用户？——电信客户流失预测模型/WA_Fn-UseC_-Telco-Customer-Churn.csv')"
   ]
  },
  {
   "cell_type": "markdown",
   "id": "ce4e6c0b",
   "metadata": {},
   "source": [
    "### 3. 查看数据集信息"
   ]
  },
  {
   "cell_type": "code",
   "execution_count": 9,
   "id": "924a11ca",
   "metadata": {},
   "outputs": [
    {
     "data": {
      "text/html": [
       "<div>\n",
       "<style scoped>\n",
       "    .dataframe tbody tr th:only-of-type {\n",
       "        vertical-align: middle;\n",
       "    }\n",
       "\n",
       "    .dataframe tbody tr th {\n",
       "        vertical-align: top;\n",
       "    }\n",
       "\n",
       "    .dataframe thead th {\n",
       "        text-align: right;\n",
       "    }\n",
       "</style>\n",
       "<table border=\"1\" class=\"dataframe\">\n",
       "  <thead>\n",
       "    <tr style=\"text-align: right;\">\n",
       "      <th></th>\n",
       "      <th>customerID</th>\n",
       "      <th>gender</th>\n",
       "      <th>SeniorCitizen</th>\n",
       "      <th>Partner</th>\n",
       "      <th>Dependents</th>\n",
       "      <th>tenure</th>\n",
       "      <th>PhoneService</th>\n",
       "      <th>MultipleLines</th>\n",
       "      <th>InternetService</th>\n",
       "      <th>OnlineSecurity</th>\n",
       "      <th>...</th>\n",
       "      <th>DeviceProtection</th>\n",
       "      <th>TechSupport</th>\n",
       "      <th>StreamingTV</th>\n",
       "      <th>StreamingMovies</th>\n",
       "      <th>Contract</th>\n",
       "      <th>PaperlessBilling</th>\n",
       "      <th>PaymentMethod</th>\n",
       "      <th>MonthlyCharges</th>\n",
       "      <th>TotalCharges</th>\n",
       "      <th>Churn</th>\n",
       "    </tr>\n",
       "  </thead>\n",
       "  <tbody>\n",
       "    <tr>\n",
       "      <th>0</th>\n",
       "      <td>7590-VHVEG</td>\n",
       "      <td>Female</td>\n",
       "      <td>0</td>\n",
       "      <td>Yes</td>\n",
       "      <td>No</td>\n",
       "      <td>1</td>\n",
       "      <td>No</td>\n",
       "      <td>No phone service</td>\n",
       "      <td>DSL</td>\n",
       "      <td>No</td>\n",
       "      <td>...</td>\n",
       "      <td>No</td>\n",
       "      <td>No</td>\n",
       "      <td>No</td>\n",
       "      <td>No</td>\n",
       "      <td>Month-to-month</td>\n",
       "      <td>Yes</td>\n",
       "      <td>Electronic check</td>\n",
       "      <td>29.85</td>\n",
       "      <td>29.85</td>\n",
       "      <td>No</td>\n",
       "    </tr>\n",
       "    <tr>\n",
       "      <th>1</th>\n",
       "      <td>5575-GNVDE</td>\n",
       "      <td>Male</td>\n",
       "      <td>0</td>\n",
       "      <td>No</td>\n",
       "      <td>No</td>\n",
       "      <td>34</td>\n",
       "      <td>Yes</td>\n",
       "      <td>No</td>\n",
       "      <td>DSL</td>\n",
       "      <td>Yes</td>\n",
       "      <td>...</td>\n",
       "      <td>Yes</td>\n",
       "      <td>No</td>\n",
       "      <td>No</td>\n",
       "      <td>No</td>\n",
       "      <td>One year</td>\n",
       "      <td>No</td>\n",
       "      <td>Mailed check</td>\n",
       "      <td>56.95</td>\n",
       "      <td>1889.5</td>\n",
       "      <td>No</td>\n",
       "    </tr>\n",
       "    <tr>\n",
       "      <th>2</th>\n",
       "      <td>3668-QPYBK</td>\n",
       "      <td>Male</td>\n",
       "      <td>0</td>\n",
       "      <td>No</td>\n",
       "      <td>No</td>\n",
       "      <td>2</td>\n",
       "      <td>Yes</td>\n",
       "      <td>No</td>\n",
       "      <td>DSL</td>\n",
       "      <td>Yes</td>\n",
       "      <td>...</td>\n",
       "      <td>No</td>\n",
       "      <td>No</td>\n",
       "      <td>No</td>\n",
       "      <td>No</td>\n",
       "      <td>Month-to-month</td>\n",
       "      <td>Yes</td>\n",
       "      <td>Mailed check</td>\n",
       "      <td>53.85</td>\n",
       "      <td>108.15</td>\n",
       "      <td>Yes</td>\n",
       "    </tr>\n",
       "    <tr>\n",
       "      <th>3</th>\n",
       "      <td>7795-CFOCW</td>\n",
       "      <td>Male</td>\n",
       "      <td>0</td>\n",
       "      <td>No</td>\n",
       "      <td>No</td>\n",
       "      <td>45</td>\n",
       "      <td>No</td>\n",
       "      <td>No phone service</td>\n",
       "      <td>DSL</td>\n",
       "      <td>Yes</td>\n",
       "      <td>...</td>\n",
       "      <td>Yes</td>\n",
       "      <td>Yes</td>\n",
       "      <td>No</td>\n",
       "      <td>No</td>\n",
       "      <td>One year</td>\n",
       "      <td>No</td>\n",
       "      <td>Bank transfer (automatic)</td>\n",
       "      <td>42.30</td>\n",
       "      <td>1840.75</td>\n",
       "      <td>No</td>\n",
       "    </tr>\n",
       "    <tr>\n",
       "      <th>4</th>\n",
       "      <td>9237-HQITU</td>\n",
       "      <td>Female</td>\n",
       "      <td>0</td>\n",
       "      <td>No</td>\n",
       "      <td>No</td>\n",
       "      <td>2</td>\n",
       "      <td>Yes</td>\n",
       "      <td>No</td>\n",
       "      <td>Fiber optic</td>\n",
       "      <td>No</td>\n",
       "      <td>...</td>\n",
       "      <td>No</td>\n",
       "      <td>No</td>\n",
       "      <td>No</td>\n",
       "      <td>No</td>\n",
       "      <td>Month-to-month</td>\n",
       "      <td>Yes</td>\n",
       "      <td>Electronic check</td>\n",
       "      <td>70.70</td>\n",
       "      <td>151.65</td>\n",
       "      <td>Yes</td>\n",
       "    </tr>\n",
       "  </tbody>\n",
       "</table>\n",
       "<p>5 rows × 21 columns</p>\n",
       "</div>"
      ],
      "text/plain": [
       "   customerID  gender  SeniorCitizen Partner Dependents  tenure PhoneService  \\\n",
       "0  7590-VHVEG  Female              0     Yes         No       1           No   \n",
       "1  5575-GNVDE    Male              0      No         No      34          Yes   \n",
       "2  3668-QPYBK    Male              0      No         No       2          Yes   \n",
       "3  7795-CFOCW    Male              0      No         No      45           No   \n",
       "4  9237-HQITU  Female              0      No         No       2          Yes   \n",
       "\n",
       "      MultipleLines InternetService OnlineSecurity  ... DeviceProtection  \\\n",
       "0  No phone service             DSL             No  ...               No   \n",
       "1                No             DSL            Yes  ...              Yes   \n",
       "2                No             DSL            Yes  ...               No   \n",
       "3  No phone service             DSL            Yes  ...              Yes   \n",
       "4                No     Fiber optic             No  ...               No   \n",
       "\n",
       "  TechSupport StreamingTV StreamingMovies        Contract PaperlessBilling  \\\n",
       "0          No          No              No  Month-to-month              Yes   \n",
       "1          No          No              No        One year               No   \n",
       "2          No          No              No  Month-to-month              Yes   \n",
       "3         Yes          No              No        One year               No   \n",
       "4          No          No              No  Month-to-month              Yes   \n",
       "\n",
       "               PaymentMethod MonthlyCharges  TotalCharges Churn  \n",
       "0           Electronic check          29.85         29.85    No  \n",
       "1               Mailed check          56.95        1889.5    No  \n",
       "2               Mailed check          53.85        108.15   Yes  \n",
       "3  Bank transfer (automatic)          42.30       1840.75    No  \n",
       "4           Electronic check          70.70        151.65   Yes  \n",
       "\n",
       "[5 rows x 21 columns]"
      ]
     },
     "execution_count": 9,
     "metadata": {},
     "output_type": "execute_result"
    }
   ],
   "source": [
    "data.head()"
   ]
  },
  {
   "cell_type": "code",
   "execution_count": 10,
   "id": "2010eba3",
   "metadata": {},
   "outputs": [
    {
     "data": {
      "text/plain": [
       "(7043, 21)"
      ]
     },
     "execution_count": 10,
     "metadata": {},
     "output_type": "execute_result"
    }
   ],
   "source": [
    "#查看数据集的大小\n",
    "data.shape "
   ]
  },
  {
   "cell_type": "code",
   "execution_count": 11,
   "id": "8c6c6c6f",
   "metadata": {},
   "outputs": [
    {
     "data": {
      "text/html": [
       "<div>\n",
       "<style scoped>\n",
       "    .dataframe tbody tr th:only-of-type {\n",
       "        vertical-align: middle;\n",
       "    }\n",
       "\n",
       "    .dataframe tbody tr th {\n",
       "        vertical-align: top;\n",
       "    }\n",
       "\n",
       "    .dataframe thead th {\n",
       "        text-align: right;\n",
       "    }\n",
       "</style>\n",
       "<table border=\"1\" class=\"dataframe\">\n",
       "  <thead>\n",
       "    <tr style=\"text-align: right;\">\n",
       "      <th></th>\n",
       "      <th>SeniorCitizen</th>\n",
       "      <th>tenure</th>\n",
       "      <th>MonthlyCharges</th>\n",
       "    </tr>\n",
       "  </thead>\n",
       "  <tbody>\n",
       "    <tr>\n",
       "      <th>count</th>\n",
       "      <td>7043.000000</td>\n",
       "      <td>7043.000000</td>\n",
       "      <td>7043.000000</td>\n",
       "    </tr>\n",
       "    <tr>\n",
       "      <th>mean</th>\n",
       "      <td>0.162147</td>\n",
       "      <td>32.371149</td>\n",
       "      <td>64.761692</td>\n",
       "    </tr>\n",
       "    <tr>\n",
       "      <th>std</th>\n",
       "      <td>0.368612</td>\n",
       "      <td>24.559481</td>\n",
       "      <td>30.090047</td>\n",
       "    </tr>\n",
       "    <tr>\n",
       "      <th>min</th>\n",
       "      <td>0.000000</td>\n",
       "      <td>0.000000</td>\n",
       "      <td>18.250000</td>\n",
       "    </tr>\n",
       "    <tr>\n",
       "      <th>25%</th>\n",
       "      <td>0.000000</td>\n",
       "      <td>9.000000</td>\n",
       "      <td>35.500000</td>\n",
       "    </tr>\n",
       "    <tr>\n",
       "      <th>50%</th>\n",
       "      <td>0.000000</td>\n",
       "      <td>29.000000</td>\n",
       "      <td>70.350000</td>\n",
       "    </tr>\n",
       "    <tr>\n",
       "      <th>75%</th>\n",
       "      <td>0.000000</td>\n",
       "      <td>55.000000</td>\n",
       "      <td>89.850000</td>\n",
       "    </tr>\n",
       "    <tr>\n",
       "      <th>max</th>\n",
       "      <td>1.000000</td>\n",
       "      <td>72.000000</td>\n",
       "      <td>118.750000</td>\n",
       "    </tr>\n",
       "  </tbody>\n",
       "</table>\n",
       "</div>"
      ],
      "text/plain": [
       "       SeniorCitizen       tenure  MonthlyCharges\n",
       "count    7043.000000  7043.000000     7043.000000\n",
       "mean        0.162147    32.371149       64.761692\n",
       "std         0.368612    24.559481       30.090047\n",
       "min         0.000000     0.000000       18.250000\n",
       "25%         0.000000     9.000000       35.500000\n",
       "50%         0.000000    29.000000       70.350000\n",
       "75%         0.000000    55.000000       89.850000\n",
       "max         1.000000    72.000000      118.750000"
      ]
     },
     "execution_count": 11,
     "metadata": {},
     "output_type": "execute_result"
    }
   ],
   "source": [
    "#获取数据类型列的描述统计信息\n",
    "data.describe()"
   ]
  },
  {
   "cell_type": "markdown",
   "id": "bc4349e1",
   "metadata": {},
   "source": [
    "由上述分析可知，本数据集共有7043行数据，每行数据包含了21个特征变量。"
   ]
  },
  {
   "cell_type": "markdown",
   "id": "42e2ff7c",
   "metadata": {},
   "source": [
    "## 二、数据处理"
   ]
  },
  {
   "cell_type": "markdown",
   "id": "b0854c64",
   "metadata": {},
   "source": [
    "### 1. 查找缺失值"
   ]
  },
  {
   "cell_type": "code",
   "execution_count": 12,
   "id": "0d03cd6c",
   "metadata": {},
   "outputs": [
    {
     "data": {
      "text/plain": [
       "customerID          0\n",
       "gender              0\n",
       "SeniorCitizen       0\n",
       "Partner             0\n",
       "Dependents          0\n",
       "tenure              0\n",
       "PhoneService        0\n",
       "MultipleLines       0\n",
       "InternetService     0\n",
       "OnlineSecurity      0\n",
       "OnlineBackup        0\n",
       "DeviceProtection    0\n",
       "TechSupport         0\n",
       "StreamingTV         0\n",
       "StreamingMovies     0\n",
       "Contract            0\n",
       "PaperlessBilling    0\n",
       "PaymentMethod       0\n",
       "MonthlyCharges      0\n",
       "TotalCharges        0\n",
       "Churn               0\n",
       "dtype: int64"
      ]
     },
     "execution_count": 12,
     "metadata": {},
     "output_type": "execute_result"
    }
   ],
   "source": [
    "pd.isnull(data).sum()"
   ]
  },
  {
   "cell_type": "markdown",
   "id": "86b4e184",
   "metadata": {},
   "source": [
    "由上可知此数据集没有缺失值，不需要进行缺失值填补或者删除的操作。\n",
    "另外由于Churn列代表用户是否流失，与广告中的CTR点击率问题很像，通常它们的特征值分布及其不平衡，下面通过对Churn的不同特征值取值进行验证。"
   ]
  },
  {
   "cell_type": "code",
   "execution_count": 14,
   "id": "d03adf9b",
   "metadata": {},
   "outputs": [
    {
     "data": {
      "text/plain": [
       "No     5174\n",
       "Yes    1869\n",
       "Name: Churn, dtype: int64"
      ]
     },
     "execution_count": 14,
     "metadata": {},
     "output_type": "execute_result"
    }
   ],
   "source": [
    "data['Churn'].value_counts()"
   ]
  },
  {
   "cell_type": "markdown",
   "id": "bc28e3f4",
   "metadata": {},
   "source": [
    "此数据集共有5174位用户未流失，1869位用户流失，该数据集类别不均衡。由于类别不平衡时，建立的模型往往会更偏向于数据量大的类别，导致模型的准确率看似不错，实际上对于数据量小的类别预测的效果很差，因此对于这种问题常常考虑给特征加入权重，以及用AUC值来衡量模型的好坏。（AUC值不会受到类别不均衡带来的影响）"
   ]
  },
  {
   "cell_type": "markdown",
   "id": "f42cf461",
   "metadata": {},
   "source": [
    "### 2. 查看数据类型"
   ]
  },
  {
   "cell_type": "code",
   "execution_count": 15,
   "id": "8f6f7f57",
   "metadata": {},
   "outputs": [
    {
     "name": "stdout",
     "output_type": "stream",
     "text": [
      "<class 'pandas.core.frame.DataFrame'>\n",
      "RangeIndex: 7043 entries, 0 to 7042\n",
      "Data columns (total 21 columns):\n",
      " #   Column            Non-Null Count  Dtype  \n",
      "---  ------            --------------  -----  \n",
      " 0   customerID        7043 non-null   object \n",
      " 1   gender            7043 non-null   object \n",
      " 2   SeniorCitizen     7043 non-null   int64  \n",
      " 3   Partner           7043 non-null   object \n",
      " 4   Dependents        7043 non-null   object \n",
      " 5   tenure            7043 non-null   int64  \n",
      " 6   PhoneService      7043 non-null   object \n",
      " 7   MultipleLines     7043 non-null   object \n",
      " 8   InternetService   7043 non-null   object \n",
      " 9   OnlineSecurity    7043 non-null   object \n",
      " 10  OnlineBackup      7043 non-null   object \n",
      " 11  DeviceProtection  7043 non-null   object \n",
      " 12  TechSupport       7043 non-null   object \n",
      " 13  StreamingTV       7043 non-null   object \n",
      " 14  StreamingMovies   7043 non-null   object \n",
      " 15  Contract          7043 non-null   object \n",
      " 16  PaperlessBilling  7043 non-null   object \n",
      " 17  PaymentMethod     7043 non-null   object \n",
      " 18  MonthlyCharges    7043 non-null   float64\n",
      " 19  TotalCharges      7043 non-null   object \n",
      " 20  Churn             7043 non-null   object \n",
      "dtypes: float64(1), int64(2), object(18)\n",
      "memory usage: 1.1+ MB\n"
     ]
    }
   ],
   "source": [
    "data.info()"
   ]
  },
  {
   "cell_type": "markdown",
   "id": "1bd71504",
   "metadata": {},
   "source": [
    "TotalCharges代表总费用，原表中将其存为了object类型（在pandas中代表字符串格式）更改为float类型。"
   ]
  },
  {
   "cell_type": "markdown",
   "id": "bb27bac3",
   "metadata": {},
   "source": [
    "### 3. 转换类型"
   ]
  },
  {
   "cell_type": "code",
   "execution_count": 33,
   "id": "09eedbfb",
   "metadata": {},
   "outputs": [
    {
     "data": {
      "text/plain": [
       "dtype('float64')"
      ]
     },
     "execution_count": 33,
     "metadata": {},
     "output_type": "execute_result"
    }
   ],
   "source": [
    "data['TotalCharges'] = pd.to_numeric(data['TotalCharges'],errors='coerce')\n",
    "data['TotalCharges'].dtype"
   ]
  },
  {
   "cell_type": "markdown",
   "id": "0f923cc7",
   "metadata": {},
   "source": [
    "由于TotalCharges的类型发生了转换，这是有可能由于有些数据无法转换为数字而出现缺失值，因此需要再次统计缺失值的个数。"
   ]
  },
  {
   "cell_type": "code",
   "execution_count": 34,
   "id": "ad2a9959",
   "metadata": {},
   "outputs": [
    {
     "data": {
      "text/plain": [
       "11"
      ]
     },
     "execution_count": 34,
     "metadata": {},
     "output_type": "execute_result"
    }
   ],
   "source": [
    "pd.isnull(data['TotalCharges']).sum()"
   ]
  },
  {
   "cell_type": "markdown",
   "id": "694da830",
   "metadata": {},
   "source": [
    "11个缺失值相较于整体而言，不算多，因此我们直接删除这些缺失值。"
   ]
  },
  {
   "cell_type": "markdown",
   "id": "bd020023",
   "metadata": {},
   "source": [
    "### 4. 处理缺失值"
   ]
  },
  {
   "cell_type": "code",
   "execution_count": 35,
   "id": "1c907d3a",
   "metadata": {},
   "outputs": [
    {
     "data": {
      "text/plain": [
       "(7032, 21)"
      ]
     },
     "execution_count": 35,
     "metadata": {},
     "output_type": "execute_result"
    }
   ],
   "source": [
    "data.dropna(inplace=True)\n",
    "data.shape"
   ]
  },
  {
   "cell_type": "markdown",
   "id": "e9508e48",
   "metadata": {},
   "source": [
    "### 5. 数据替换"
   ]
  },
  {
   "cell_type": "markdown",
   "id": "e069475a",
   "metadata": {},
   "source": [
    "与预测广告点击率类似，这里用户是否流失正是我们要预测的值，因此将其转化为0和1便于后续的建模"
   ]
  },
  {
   "cell_type": "code",
   "execution_count": 36,
   "id": "4ae52fbc",
   "metadata": {},
   "outputs": [
    {
     "data": {
      "text/plain": [
       "0    0\n",
       "1    0\n",
       "2    1\n",
       "3    0\n",
       "4    1\n",
       "5    1\n",
       "6    0\n",
       "7    0\n",
       "8    1\n",
       "9    0\n",
       "Name: Churn, dtype: int64"
      ]
     },
     "execution_count": 36,
     "metadata": {},
     "output_type": "execute_result"
    }
   ],
   "source": [
    "data['Churn'].replace(to_replace='Yes',value=1,inplace=True)\n",
    "data['Churn'].replace(to_replace='No',value=0,inplace=True)\n",
    "data['Churn'].head(10)"
   ]
  },
  {
   "cell_type": "markdown",
   "id": "5b3f51b8",
   "metadata": {},
   "source": [
    "## 三、数据探索"
   ]
  },
  {
   "cell_type": "markdown",
   "id": "8738f324",
   "metadata": {},
   "source": [
    "### 1. 查看流失客户占比"
   ]
  },
  {
   "cell_type": "code",
   "execution_count": 38,
   "id": "b7332265",
   "metadata": {},
   "outputs": [
    {
     "name": "stdout",
     "output_type": "stream",
     "text": [
      "0    5163\n",
      "1    1869\n",
      "Name: Churn, dtype: int64\n",
      "Int64Index([0, 1], dtype='int64')\n"
     ]
    }
   ],
   "source": [
    "churnvalue=data['Churn'].value_counts()\n",
    "labels=data['Churn'].value_counts().index\n",
    "print(churnvalue)\n",
    "print(labels)"
   ]
  },
  {
   "cell_type": "code",
   "execution_count": 40,
   "id": "a23a1907",
   "metadata": {},
   "outputs": [
    {
     "data": {
      "text/plain": [
       "Text(0.5, 1.0, '用户流失占比')"
      ]
     },
     "execution_count": 40,
     "metadata": {},
     "output_type": "execute_result"
    },
    {
     "data": {
      "image/png": "[encoded data removed]",
      "text/plain": [
       "<Figure size 432x432 with 1 Axes>"
      ]
     },
     "metadata": {},
     "output_type": "display_data"
    }
   ],
   "source": [
    "#绘制饼图（饼图适合展示占比情况）\n",
    "rcParams['figure.figsize']=6,6 #设置图片的大小\n",
    "rcParams['font.sans-serif'] = ['SimHei'] #图片中的文字用中文显示\n",
    "plt.pie(churnvalue,labels=labels,colors=['red','green'],explode=(0.1,0),autopct='%1.1f%%',shadow=True)\n",
    "plt.title('用户流失占比')"
   ]
  },
  {
   "cell_type": "markdown",
   "id": "90e434df",
   "metadata": {},
   "source": [
    "由饼图可看出，流失用户占据用户的26.6%。可与该行业的用户流失率平均值进行比较，判断电信的用户流失率是否是正常的。当然即使流失率在正常范围内，也应该追求不断减少流失率，这样才能保证持续的用户增长。"
   ]
  },
  {
   "cell_type": "markdown",
   "id": "b9961d29",
   "metadata": {},
   "source": [
    "### 2. 性别、老年人、配偶、亲属对客户流失率的影响"
   ]
  },
  {
   "cell_type": "code",
   "execution_count": 42,
   "id": "162b67ec",
   "metadata": {},
   "outputs": [
    {
     "data": {
      "text/plain": [
       "Text(0.5, 1.0, 'Churn by Dependents')"
      ]
     },
     "execution_count": 42,
     "metadata": {},
     "output_type": "execute_result"
    },
    {
     "data": {
      "image/png": "[encoded data removed]",
      "text/plain": [
       "<Figure size 720x720 with 4 Axes>"
      ]
     },
     "metadata": {
      "needs_background": "light"
     },
     "output_type": "display_data"
    }
   ],
   "source": [
    "f,axes = plt.subplots(nrows=2,ncols=2,figsize=(10,10)) \n",
    "#创建一个2*2的画图区域，每张图的大小为10*10\n",
    "#sns.countplot() 用于类别特征的频数条形图，可以画类别特征和y值（y值也是类别特征）的条形图\n",
    "#观察不同性别对流失率是否有影响\n",
    "plt.subplot(2,2,1)\n",
    "gender=sns.countplot(x='gender',hue='Churn',data=data,palette='Accent')\n",
    "plt.xlabel('gender')\n",
    "plt.title('Churn by Gender')\n",
    "\n",
    "#观察老年人对流失率是否有影响\n",
    "plt.subplot(2,2,2)\n",
    "gender=sns.countplot(x='SeniorCitizen',hue='Churn',data=data,palette='Accent')\n",
    "plt.xlabel('seniorcitizen')\n",
    "plt.title('Churn by SeniorCitizen')\n",
    "\n",
    "#观察配偶对流失率是否有影响\n",
    "plt.subplot(2,2,3)\n",
    "gender=sns.countplot(x='Partner',hue='Churn',data=data,palette='Accent')\n",
    "plt.xlabel('partner')\n",
    "plt.title('Churn by Partner')\n",
    "\n",
    "#观察经济独立对流失率是否有影响\n",
    "plt.subplot(2,2,4)\n",
    "gender=sns.countplot(x='Dependents',hue='Churn',data=data,palette='Accent')\n",
    "plt.xlabel('dependents')\n",
    "plt.title('Churn by Dependents')"
   ]
  },
  {
   "cell_type": "markdown",
   "id": "76369fcf",
   "metadata": {},
   "source": [
    "由上图可看出，男性用户与女性用户的流失人数基本持平，说明性别对流失率并无影响；老年用户中的流失人数几乎快接近未流失人数，老年用户中的流失占比明显高于非老年用户；无配偶的用户的流失人数几乎是有配偶用户的流失人数的两倍；经济独立的用户流失人数远远小于经济未独立用户的流失人数。"
   ]
  },
  {
   "cell_type": "markdown",
   "id": "cbdd7e1a",
   "metadata": {},
   "source": [
    "### 3. 提取特征和特征编码  \n",
    "离散特征的编码分为两种情况：  \n",
    "（1）离散特征的取值之间没有大小意义，使用One-hot编码  \n",
    "（2）离散特征的取值有大小意义，使用数值的映射"
   ]
  },
  {
   "cell_type": "code",
   "execution_count": 52,
   "id": "6acc3ee4",
   "metadata": {},
   "outputs": [
    {
     "data": {
      "text/html": [
       "<div>\n",
       "<style scoped>\n",
       "    .dataframe tbody tr th:only-of-type {\n",
       "        vertical-align: middle;\n",
       "    }\n",
       "\n",
       "    .dataframe tbody tr th {\n",
       "        vertical-align: top;\n",
       "    }\n",
       "\n",
       "    .dataframe thead th {\n",
       "        text-align: right;\n",
       "    }\n",
       "</style>\n",
       "<table border=\"1\" class=\"dataframe\">\n",
       "  <thead>\n",
       "    <tr style=\"text-align: right;\">\n",
       "      <th></th>\n",
       "      <th>gender</th>\n",
       "      <th>SeniorCitizen</th>\n",
       "      <th>Partner</th>\n",
       "      <th>Dependents</th>\n",
       "      <th>tenure</th>\n",
       "      <th>PhoneService</th>\n",
       "      <th>MultipleLines</th>\n",
       "      <th>InternetService</th>\n",
       "      <th>OnlineSecurity</th>\n",
       "      <th>OnlineBackup</th>\n",
       "      <th>DeviceProtection</th>\n",
       "      <th>TechSupport</th>\n",
       "      <th>StreamingTV</th>\n",
       "      <th>StreamingMovies</th>\n",
       "      <th>Contract</th>\n",
       "      <th>PaperlessBilling</th>\n",
       "      <th>PaymentMethod</th>\n",
       "      <th>MonthlyCharges</th>\n",
       "      <th>TotalCharges</th>\n",
       "    </tr>\n",
       "  </thead>\n",
       "  <tbody>\n",
       "    <tr>\n",
       "      <th>0</th>\n",
       "      <td>0</td>\n",
       "      <td>0</td>\n",
       "      <td>0</td>\n",
       "      <td>0</td>\n",
       "      <td>0</td>\n",
       "      <td>0</td>\n",
       "      <td>0</td>\n",
       "      <td>0</td>\n",
       "      <td>0</td>\n",
       "      <td>0</td>\n",
       "      <td>0</td>\n",
       "      <td>0</td>\n",
       "      <td>0</td>\n",
       "      <td>0</td>\n",
       "      <td>0</td>\n",
       "      <td>0</td>\n",
       "      <td>0</td>\n",
       "      <td>0</td>\n",
       "      <td>0</td>\n",
       "    </tr>\n",
       "    <tr>\n",
       "      <th>1</th>\n",
       "      <td>1</td>\n",
       "      <td>0</td>\n",
       "      <td>1</td>\n",
       "      <td>0</td>\n",
       "      <td>1</td>\n",
       "      <td>1</td>\n",
       "      <td>1</td>\n",
       "      <td>0</td>\n",
       "      <td>1</td>\n",
       "      <td>1</td>\n",
       "      <td>1</td>\n",
       "      <td>0</td>\n",
       "      <td>0</td>\n",
       "      <td>0</td>\n",
       "      <td>1</td>\n",
       "      <td>1</td>\n",
       "      <td>1</td>\n",
       "      <td>1</td>\n",
       "      <td>1</td>\n",
       "    </tr>\n",
       "    <tr>\n",
       "      <th>2</th>\n",
       "      <td>1</td>\n",
       "      <td>0</td>\n",
       "      <td>1</td>\n",
       "      <td>0</td>\n",
       "      <td>2</td>\n",
       "      <td>1</td>\n",
       "      <td>1</td>\n",
       "      <td>0</td>\n",
       "      <td>1</td>\n",
       "      <td>0</td>\n",
       "      <td>0</td>\n",
       "      <td>0</td>\n",
       "      <td>0</td>\n",
       "      <td>0</td>\n",
       "      <td>0</td>\n",
       "      <td>0</td>\n",
       "      <td>1</td>\n",
       "      <td>2</td>\n",
       "      <td>2</td>\n",
       "    </tr>\n",
       "    <tr>\n",
       "      <th>3</th>\n",
       "      <td>1</td>\n",
       "      <td>0</td>\n",
       "      <td>1</td>\n",
       "      <td>0</td>\n",
       "      <td>3</td>\n",
       "      <td>0</td>\n",
       "      <td>0</td>\n",
       "      <td>0</td>\n",
       "      <td>1</td>\n",
       "      <td>1</td>\n",
       "      <td>1</td>\n",
       "      <td>1</td>\n",
       "      <td>0</td>\n",
       "      <td>0</td>\n",
       "      <td>1</td>\n",
       "      <td>1</td>\n",
       "      <td>2</td>\n",
       "      <td>3</td>\n",
       "      <td>3</td>\n",
       "    </tr>\n",
       "    <tr>\n",
       "      <th>4</th>\n",
       "      <td>0</td>\n",
       "      <td>0</td>\n",
       "      <td>1</td>\n",
       "      <td>0</td>\n",
       "      <td>2</td>\n",
       "      <td>1</td>\n",
       "      <td>1</td>\n",
       "      <td>1</td>\n",
       "      <td>0</td>\n",
       "      <td>1</td>\n",
       "      <td>0</td>\n",
       "      <td>0</td>\n",
       "      <td>0</td>\n",
       "      <td>0</td>\n",
       "      <td>0</td>\n",
       "      <td>0</td>\n",
       "      <td>0</td>\n",
       "      <td>4</td>\n",
       "      <td>4</td>\n",
       "    </tr>\n",
       "  </tbody>\n",
       "</table>\n",
       "</div>"
      ],
      "text/plain": [
       "   gender  SeniorCitizen  Partner  Dependents  tenure  PhoneService  \\\n",
       "0       0              0        0           0       0             0   \n",
       "1       1              0        1           0       1             1   \n",
       "2       1              0        1           0       2             1   \n",
       "3       1              0        1           0       3             0   \n",
       "4       0              0        1           0       2             1   \n",
       "\n",
       "   MultipleLines  InternetService  OnlineSecurity  OnlineBackup  \\\n",
       "0              0                0               0             0   \n",
       "1              1                0               1             1   \n",
       "2              1                0               1             0   \n",
       "3              0                0               1             1   \n",
       "4              1                1               0             1   \n",
       "\n",
       "   DeviceProtection  TechSupport  StreamingTV  StreamingMovies  Contract  \\\n",
       "0                 0            0            0                0         0   \n",
       "1                 1            0            0                0         1   \n",
       "2                 0            0            0                0         0   \n",
       "3                 1            1            0                0         1   \n",
       "4                 0            0            0                0         0   \n",
       "\n",
       "   PaperlessBilling  PaymentMethod  MonthlyCharges  TotalCharges  \n",
       "0                 0              0               0             0  \n",
       "1                 1              1               1             1  \n",
       "2                 0              1               2             2  \n",
       "3                 1              2               3             3  \n",
       "4                 0              0               4             4  "
      ]
     },
     "execution_count": 52,
     "metadata": {},
     "output_type": "execute_result"
    }
   ],
   "source": [
    "datamap = data.iloc[:,1:20] #将用户的特征变量提取出来\n",
    "corrDf=datamap.apply(lambda x:pd.factorize(x)[0])\n",
    "corrDf.head()"
   ]
  },
  {
   "cell_type": "markdown",
   "id": "b56e966e",
   "metadata": {},
   "source": [
    "### 4. 相关性矩阵"
   ]
  },
  {
   "cell_type": "code",
   "execution_count": 44,
   "id": "78a25432",
   "metadata": {},
   "outputs": [
    {
     "data": {
      "text/html": [
       "<div>\n",
       "<style scoped>\n",
       "    .dataframe tbody tr th:only-of-type {\n",
       "        vertical-align: middle;\n",
       "    }\n",
       "\n",
       "    .dataframe tbody tr th {\n",
       "        vertical-align: top;\n",
       "    }\n",
       "\n",
       "    .dataframe thead th {\n",
       "        text-align: right;\n",
       "    }\n",
       "</style>\n",
       "<table border=\"1\" class=\"dataframe\">\n",
       "  <thead>\n",
       "    <tr style=\"text-align: right;\">\n",
       "      <th></th>\n",
       "      <th>gender</th>\n",
       "      <th>SeniorCitizen</th>\n",
       "      <th>Partner</th>\n",
       "      <th>Dependents</th>\n",
       "      <th>tenure</th>\n",
       "      <th>PhoneService</th>\n",
       "      <th>MultipleLines</th>\n",
       "      <th>InternetService</th>\n",
       "      <th>OnlineSecurity</th>\n",
       "      <th>OnlineBackup</th>\n",
       "      <th>DeviceProtection</th>\n",
       "      <th>TechSupport</th>\n",
       "      <th>StreamingTV</th>\n",
       "      <th>StreamingMovies</th>\n",
       "      <th>Contract</th>\n",
       "      <th>PaperlessBilling</th>\n",
       "      <th>PaymentMethod</th>\n",
       "      <th>MonthlyCharges</th>\n",
       "      <th>TotalCharges</th>\n",
       "    </tr>\n",
       "  </thead>\n",
       "  <tbody>\n",
       "    <tr>\n",
       "      <th>gender</th>\n",
       "      <td>1.000000</td>\n",
       "      <td>-0.001819</td>\n",
       "      <td>0.001379</td>\n",
       "      <td>0.010349</td>\n",
       "      <td>-0.000265</td>\n",
       "      <td>-0.007515</td>\n",
       "      <td>-0.010284</td>\n",
       "      <td>-0.002236</td>\n",
       "      <td>-0.004365</td>\n",
       "      <td>0.011081</td>\n",
       "      <td>0.004526</td>\n",
       "      <td>0.000057</td>\n",
       "      <td>0.000578</td>\n",
       "      <td>-0.001339</td>\n",
       "      <td>0.000095</td>\n",
       "      <td>0.011902</td>\n",
       "      <td>-0.004928</td>\n",
       "      <td>-0.008017</td>\n",
       "      <td>-0.012153</td>\n",
       "    </tr>\n",
       "    <tr>\n",
       "      <th>SeniorCitizen</th>\n",
       "      <td>-0.001819</td>\n",
       "      <td>1.000000</td>\n",
       "      <td>-0.016957</td>\n",
       "      <td>-0.210550</td>\n",
       "      <td>0.012240</td>\n",
       "      <td>0.008392</td>\n",
       "      <td>0.113769</td>\n",
       "      <td>-0.032160</td>\n",
       "      <td>-0.210546</td>\n",
       "      <td>-0.144762</td>\n",
       "      <td>-0.156700</td>\n",
       "      <td>-0.223438</td>\n",
       "      <td>-0.129721</td>\n",
       "      <td>-0.120658</td>\n",
       "      <td>-0.141820</td>\n",
       "      <td>-0.156258</td>\n",
       "      <td>-0.093712</td>\n",
       "      <td>0.049154</td>\n",
       "      <td>0.022949</td>\n",
       "    </tr>\n",
       "    <tr>\n",
       "      <th>Partner</th>\n",
       "      <td>0.001379</td>\n",
       "      <td>-0.016957</td>\n",
       "      <td>1.000000</td>\n",
       "      <td>-0.452269</td>\n",
       "      <td>-0.100513</td>\n",
       "      <td>-0.018397</td>\n",
       "      <td>-0.118037</td>\n",
       "      <td>-0.000513</td>\n",
       "      <td>-0.081078</td>\n",
       "      <td>0.091536</td>\n",
       "      <td>-0.093391</td>\n",
       "      <td>-0.068277</td>\n",
       "      <td>-0.079066</td>\n",
       "      <td>-0.075310</td>\n",
       "      <td>-0.294094</td>\n",
       "      <td>-0.013957</td>\n",
       "      <td>-0.133280</td>\n",
       "      <td>-0.036518</td>\n",
       "      <td>-0.044214</td>\n",
       "    </tr>\n",
       "    <tr>\n",
       "      <th>Dependents</th>\n",
       "      <td>0.010349</td>\n",
       "      <td>-0.210550</td>\n",
       "      <td>-0.452269</td>\n",
       "      <td>1.000000</td>\n",
       "      <td>0.044138</td>\n",
       "      <td>-0.001078</td>\n",
       "      <td>-0.019178</td>\n",
       "      <td>0.044030</td>\n",
       "      <td>0.188889</td>\n",
       "      <td>0.061970</td>\n",
       "      <td>0.154819</td>\n",
       "      <td>0.179176</td>\n",
       "      <td>0.138809</td>\n",
       "      <td>0.125086</td>\n",
       "      <td>0.240556</td>\n",
       "      <td>0.110131</td>\n",
       "      <td>0.124002</td>\n",
       "      <td>-0.028706</td>\n",
       "      <td>0.009710</td>\n",
       "    </tr>\n",
       "    <tr>\n",
       "      <th>tenure</th>\n",
       "      <td>-0.000265</td>\n",
       "      <td>0.012240</td>\n",
       "      <td>-0.100513</td>\n",
       "      <td>0.044138</td>\n",
       "      <td>1.000000</td>\n",
       "      <td>-0.017864</td>\n",
       "      <td>0.064580</td>\n",
       "      <td>-0.012924</td>\n",
       "      <td>0.014436</td>\n",
       "      <td>-0.066232</td>\n",
       "      <td>0.034744</td>\n",
       "      <td>0.030489</td>\n",
       "      <td>0.024719</td>\n",
       "      <td>0.030252</td>\n",
       "      <td>0.118664</td>\n",
       "      <td>-0.013160</td>\n",
       "      <td>0.075533</td>\n",
       "      <td>0.042605</td>\n",
       "      <td>0.112813</td>\n",
       "    </tr>\n",
       "    <tr>\n",
       "      <th>PhoneService</th>\n",
       "      <td>-0.007515</td>\n",
       "      <td>0.008392</td>\n",
       "      <td>-0.018397</td>\n",
       "      <td>-0.001078</td>\n",
       "      <td>-0.017864</td>\n",
       "      <td>1.000000</td>\n",
       "      <td>0.674824</td>\n",
       "      <td>0.387266</td>\n",
       "      <td>0.125544</td>\n",
       "      <td>0.129432</td>\n",
       "      <td>0.138938</td>\n",
       "      <td>0.123533</td>\n",
       "      <td>0.171773</td>\n",
       "      <td>0.164379</td>\n",
       "      <td>0.003019</td>\n",
       "      <td>-0.016696</td>\n",
       "      <td>-0.003106</td>\n",
       "      <td>-0.141696</td>\n",
       "      <td>-0.030534</td>\n",
       "    </tr>\n",
       "    <tr>\n",
       "      <th>MultipleLines</th>\n",
       "      <td>-0.010284</td>\n",
       "      <td>0.113769</td>\n",
       "      <td>-0.118037</td>\n",
       "      <td>-0.019178</td>\n",
       "      <td>0.064580</td>\n",
       "      <td>0.674824</td>\n",
       "      <td>1.000000</td>\n",
       "      <td>0.186852</td>\n",
       "      <td>-0.066695</td>\n",
       "      <td>-0.130978</td>\n",
       "      <td>-0.012819</td>\n",
       "      <td>-0.066814</td>\n",
       "      <td>0.030524</td>\n",
       "      <td>0.027944</td>\n",
       "      <td>0.084037</td>\n",
       "      <td>-0.133538</td>\n",
       "      <td>0.026248</td>\n",
       "      <td>0.024221</td>\n",
       "      <td>0.014915</td>\n",
       "    </tr>\n",
       "    <tr>\n",
       "      <th>InternetService</th>\n",
       "      <td>-0.002236</td>\n",
       "      <td>-0.032160</td>\n",
       "      <td>-0.000513</td>\n",
       "      <td>0.044030</td>\n",
       "      <td>-0.012924</td>\n",
       "      <td>0.387266</td>\n",
       "      <td>0.186852</td>\n",
       "      <td>1.000000</td>\n",
       "      <td>0.607412</td>\n",
       "      <td>0.650084</td>\n",
       "      <td>0.662685</td>\n",
       "      <td>0.609422</td>\n",
       "      <td>0.712715</td>\n",
       "      <td>0.708336</td>\n",
       "      <td>0.099579</td>\n",
       "      <td>0.138166</td>\n",
       "      <td>0.008851</td>\n",
       "      <td>-0.288948</td>\n",
       "      <td>-0.037709</td>\n",
       "    </tr>\n",
       "    <tr>\n",
       "      <th>OnlineSecurity</th>\n",
       "      <td>-0.004365</td>\n",
       "      <td>-0.210546</td>\n",
       "      <td>-0.081078</td>\n",
       "      <td>0.188889</td>\n",
       "      <td>0.014436</td>\n",
       "      <td>0.125544</td>\n",
       "      <td>-0.066695</td>\n",
       "      <td>0.607412</td>\n",
       "      <td>1.000000</td>\n",
       "      <td>0.621270</td>\n",
       "      <td>0.748684</td>\n",
       "      <td>0.790951</td>\n",
       "      <td>0.701526</td>\n",
       "      <td>0.704672</td>\n",
       "      <td>0.389138</td>\n",
       "      <td>0.333656</td>\n",
       "      <td>0.214330</td>\n",
       "      <td>-0.219289</td>\n",
       "      <td>-0.024821</td>\n",
       "    </tr>\n",
       "    <tr>\n",
       "      <th>OnlineBackup</th>\n",
       "      <td>0.011081</td>\n",
       "      <td>-0.144762</td>\n",
       "      <td>0.091536</td>\n",
       "      <td>0.061970</td>\n",
       "      <td>-0.066232</td>\n",
       "      <td>0.129432</td>\n",
       "      <td>-0.130978</td>\n",
       "      <td>0.650084</td>\n",
       "      <td>0.621270</td>\n",
       "      <td>1.000000</td>\n",
       "      <td>0.600952</td>\n",
       "      <td>0.616520</td>\n",
       "      <td>0.603551</td>\n",
       "      <td>0.606037</td>\n",
       "      <td>0.034745</td>\n",
       "      <td>0.260691</td>\n",
       "      <td>0.003786</td>\n",
       "      <td>-0.283212</td>\n",
       "      <td>-0.053770</td>\n",
       "    </tr>\n",
       "    <tr>\n",
       "      <th>DeviceProtection</th>\n",
       "      <td>0.004526</td>\n",
       "      <td>-0.156700</td>\n",
       "      <td>-0.093391</td>\n",
       "      <td>0.154819</td>\n",
       "      <td>0.034744</td>\n",
       "      <td>0.138938</td>\n",
       "      <td>-0.012819</td>\n",
       "      <td>0.662685</td>\n",
       "      <td>0.748684</td>\n",
       "      <td>0.600952</td>\n",
       "      <td>1.000000</td>\n",
       "      <td>0.767659</td>\n",
       "      <td>0.762742</td>\n",
       "      <td>0.766635</td>\n",
       "      <td>0.389480</td>\n",
       "      <td>0.275519</td>\n",
       "      <td>0.192405</td>\n",
       "      <td>-0.218775</td>\n",
       "      <td>-0.023302</td>\n",
       "    </tr>\n",
       "    <tr>\n",
       "      <th>TechSupport</th>\n",
       "      <td>0.000057</td>\n",
       "      <td>-0.223438</td>\n",
       "      <td>-0.068277</td>\n",
       "      <td>0.179176</td>\n",
       "      <td>0.030489</td>\n",
       "      <td>0.123533</td>\n",
       "      <td>-0.066814</td>\n",
       "      <td>0.609422</td>\n",
       "      <td>0.790951</td>\n",
       "      <td>0.616520</td>\n",
       "      <td>0.767659</td>\n",
       "      <td>1.000000</td>\n",
       "      <td>0.737211</td>\n",
       "      <td>0.737126</td>\n",
       "      <td>0.417691</td>\n",
       "      <td>0.310354</td>\n",
       "      <td>0.217412</td>\n",
       "      <td>-0.212308</td>\n",
       "      <td>-0.019971</td>\n",
       "    </tr>\n",
       "    <tr>\n",
       "      <th>StreamingTV</th>\n",
       "      <td>0.000578</td>\n",
       "      <td>-0.129721</td>\n",
       "      <td>-0.079066</td>\n",
       "      <td>0.138809</td>\n",
       "      <td>0.024719</td>\n",
       "      <td>0.171773</td>\n",
       "      <td>0.030524</td>\n",
       "      <td>0.712715</td>\n",
       "      <td>0.701526</td>\n",
       "      <td>0.603551</td>\n",
       "      <td>0.762742</td>\n",
       "      <td>0.737211</td>\n",
       "      <td>1.000000</td>\n",
       "      <td>0.809507</td>\n",
       "      <td>0.327109</td>\n",
       "      <td>0.202967</td>\n",
       "      <td>0.118181</td>\n",
       "      <td>-0.229468</td>\n",
       "      <td>-0.016845</td>\n",
       "    </tr>\n",
       "    <tr>\n",
       "      <th>StreamingMovies</th>\n",
       "      <td>-0.001339</td>\n",
       "      <td>-0.120658</td>\n",
       "      <td>-0.075310</td>\n",
       "      <td>0.125086</td>\n",
       "      <td>0.030252</td>\n",
       "      <td>0.164379</td>\n",
       "      <td>0.027944</td>\n",
       "      <td>0.708336</td>\n",
       "      <td>0.704672</td>\n",
       "      <td>0.606037</td>\n",
       "      <td>0.766635</td>\n",
       "      <td>0.737126</td>\n",
       "      <td>0.809507</td>\n",
       "      <td>1.000000</td>\n",
       "      <td>0.331126</td>\n",
       "      <td>0.211242</td>\n",
       "      <td>0.124805</td>\n",
       "      <td>-0.239837</td>\n",
       "      <td>-0.025150</td>\n",
       "    </tr>\n",
       "    <tr>\n",
       "      <th>Contract</th>\n",
       "      <td>0.000095</td>\n",
       "      <td>-0.141820</td>\n",
       "      <td>-0.294094</td>\n",
       "      <td>0.240556</td>\n",
       "      <td>0.118664</td>\n",
       "      <td>0.003019</td>\n",
       "      <td>0.084037</td>\n",
       "      <td>0.099579</td>\n",
       "      <td>0.389138</td>\n",
       "      <td>0.034745</td>\n",
       "      <td>0.389480</td>\n",
       "      <td>0.417691</td>\n",
       "      <td>0.327109</td>\n",
       "      <td>0.331126</td>\n",
       "      <td>1.000000</td>\n",
       "      <td>0.175475</td>\n",
       "      <td>0.359487</td>\n",
       "      <td>-0.006828</td>\n",
       "      <td>0.055315</td>\n",
       "    </tr>\n",
       "    <tr>\n",
       "      <th>PaperlessBilling</th>\n",
       "      <td>0.011902</td>\n",
       "      <td>-0.156258</td>\n",
       "      <td>-0.013957</td>\n",
       "      <td>0.110131</td>\n",
       "      <td>-0.013160</td>\n",
       "      <td>-0.016696</td>\n",
       "      <td>-0.133538</td>\n",
       "      <td>0.138166</td>\n",
       "      <td>0.333656</td>\n",
       "      <td>0.260691</td>\n",
       "      <td>0.275519</td>\n",
       "      <td>0.310354</td>\n",
       "      <td>0.202967</td>\n",
       "      <td>0.211242</td>\n",
       "      <td>0.175475</td>\n",
       "      <td>1.000000</td>\n",
       "      <td>0.101790</td>\n",
       "      <td>-0.086577</td>\n",
       "      <td>-0.009768</td>\n",
       "    </tr>\n",
       "    <tr>\n",
       "      <th>PaymentMethod</th>\n",
       "      <td>-0.004928</td>\n",
       "      <td>-0.093712</td>\n",
       "      <td>-0.133280</td>\n",
       "      <td>0.124002</td>\n",
       "      <td>0.075533</td>\n",
       "      <td>-0.003106</td>\n",
       "      <td>0.026248</td>\n",
       "      <td>0.008851</td>\n",
       "      <td>0.214330</td>\n",
       "      <td>0.003786</td>\n",
       "      <td>0.192405</td>\n",
       "      <td>0.217412</td>\n",
       "      <td>0.118181</td>\n",
       "      <td>0.124805</td>\n",
       "      <td>0.359487</td>\n",
       "      <td>0.101790</td>\n",
       "      <td>1.000000</td>\n",
       "      <td>-0.009854</td>\n",
       "      <td>0.008564</td>\n",
       "    </tr>\n",
       "    <tr>\n",
       "      <th>MonthlyCharges</th>\n",
       "      <td>-0.008017</td>\n",
       "      <td>0.049154</td>\n",
       "      <td>-0.036518</td>\n",
       "      <td>-0.028706</td>\n",
       "      <td>0.042605</td>\n",
       "      <td>-0.141696</td>\n",
       "      <td>0.024221</td>\n",
       "      <td>-0.288948</td>\n",
       "      <td>-0.219289</td>\n",
       "      <td>-0.283212</td>\n",
       "      <td>-0.218775</td>\n",
       "      <td>-0.212308</td>\n",
       "      <td>-0.229468</td>\n",
       "      <td>-0.239837</td>\n",
       "      <td>-0.006828</td>\n",
       "      <td>-0.086577</td>\n",
       "      <td>-0.009854</td>\n",
       "      <td>1.000000</td>\n",
       "      <td>0.268054</td>\n",
       "    </tr>\n",
       "    <tr>\n",
       "      <th>TotalCharges</th>\n",
       "      <td>-0.012153</td>\n",
       "      <td>0.022949</td>\n",
       "      <td>-0.044214</td>\n",
       "      <td>0.009710</td>\n",
       "      <td>0.112813</td>\n",
       "      <td>-0.030534</td>\n",
       "      <td>0.014915</td>\n",
       "      <td>-0.037709</td>\n",
       "      <td>-0.024821</td>\n",
       "      <td>-0.053770</td>\n",
       "      <td>-0.023302</td>\n",
       "      <td>-0.019971</td>\n",
       "      <td>-0.016845</td>\n",
       "      <td>-0.025150</td>\n",
       "      <td>0.055315</td>\n",
       "      <td>-0.009768</td>\n",
       "      <td>0.008564</td>\n",
       "      <td>0.268054</td>\n",
       "      <td>1.000000</td>\n",
       "    </tr>\n",
       "  </tbody>\n",
       "</table>\n",
       "</div>"
      ],
      "text/plain": [
       "                    gender  SeniorCitizen   Partner  Dependents    tenure  \\\n",
       "gender            1.000000      -0.001819  0.001379    0.010349 -0.000265   \n",
       "SeniorCitizen    -0.001819       1.000000 -0.016957   -0.210550  0.012240   \n",
       "Partner           0.001379      -0.016957  1.000000   -0.452269 -0.100513   \n",
       "Dependents        0.010349      -0.210550 -0.452269    1.000000  0.044138   \n",
       "tenure           -0.000265       0.012240 -0.100513    0.044138  1.000000   \n",
       "PhoneService     -0.007515       0.008392 -0.018397   -0.001078 -0.017864   \n",
       "MultipleLines    -0.010284       0.113769 -0.118037   -0.019178  0.064580   \n",
       "InternetService  -0.002236      -0.032160 -0.000513    0.044030 -0.012924   \n",
       "OnlineSecurity   -0.004365      -0.210546 -0.081078    0.188889  0.014436   \n",
       "OnlineBackup      0.011081      -0.144762  0.091536    0.061970 -0.066232   \n",
       "DeviceProtection  0.004526      -0.156700 -0.093391    0.154819  0.034744   \n",
       "TechSupport       0.000057      -0.223438 -0.068277    0.179176  0.030489   \n",
       "StreamingTV       0.000578      -0.129721 -0.079066    0.138809  0.024719   \n",
       "StreamingMovies  -0.001339      -0.120658 -0.075310    0.125086  0.030252   \n",
       "Contract          0.000095      -0.141820 -0.294094    0.240556  0.118664   \n",
       "PaperlessBilling  0.011902      -0.156258 -0.013957    0.110131 -0.013160   \n",
       "PaymentMethod    -0.004928      -0.093712 -0.133280    0.124002  0.075533   \n",
       "MonthlyCharges   -0.008017       0.049154 -0.036518   -0.028706  0.042605   \n",
       "TotalCharges     -0.012153       0.022949 -0.044214    0.009710  0.112813   \n",
       "\n",
       "                  PhoneService  MultipleLines  InternetService  \\\n",
       "gender               -0.007515      -0.010284        -0.002236   \n",
       "SeniorCitizen         0.008392       0.113769        -0.032160   \n",
       "Partner              -0.018397      -0.118037        -0.000513   \n",
       "Dependents           -0.001078      -0.019178         0.044030   \n",
       "tenure               -0.017864       0.064580        -0.012924   \n",
       "PhoneService          1.000000       0.674824         0.387266   \n",
       "MultipleLines         0.674824       1.000000         0.186852   \n",
       "InternetService       0.387266       0.186852         1.000000   \n",
       "OnlineSecurity        0.125544      -0.066695         0.607412   \n",
       "OnlineBackup          0.129432      -0.130978         0.650084   \n",
       "DeviceProtection      0.138938      -0.012819         0.662685   \n",
       "TechSupport           0.123533      -0.066814         0.609422   \n",
       "StreamingTV           0.171773       0.030524         0.712715   \n",
       "StreamingMovies       0.164379       0.027944         0.708336   \n",
       "Contract              0.003019       0.084037         0.099579   \n",
       "PaperlessBilling     -0.016696      -0.133538         0.138166   \n",
       "PaymentMethod        -0.003106       0.026248         0.008851   \n",
       "MonthlyCharges       -0.141696       0.024221        -0.288948   \n",
       "TotalCharges         -0.030534       0.014915        -0.037709   \n",
       "\n",
       "                  OnlineSecurity  OnlineBackup  DeviceProtection  TechSupport  \\\n",
       "gender                 -0.004365      0.011081          0.004526     0.000057   \n",
       "SeniorCitizen          -0.210546     -0.144762         -0.156700    -0.223438   \n",
       "Partner                -0.081078      0.091536         -0.093391    -0.068277   \n",
       "Dependents              0.188889      0.061970          0.154819     0.179176   \n",
       "tenure                  0.014436     -0.066232          0.034744     0.030489   \n",
       "PhoneService            0.125544      0.129432          0.138938     0.123533   \n",
       "MultipleLines          -0.066695     -0.130978         -0.012819    -0.066814   \n",
       "InternetService         0.607412      0.650084          0.662685     0.609422   \n",
       "OnlineSecurity          1.000000      0.621270          0.748684     0.790951   \n",
       "OnlineBackup            0.621270      1.000000          0.600952     0.616520   \n",
       "DeviceProtection        0.748684      0.600952          1.000000     0.767659   \n",
       "TechSupport             0.790951      0.616520          0.767659     1.000000   \n",
       "StreamingTV             0.701526      0.603551          0.762742     0.737211   \n",
       "StreamingMovies         0.704672      0.606037          0.766635     0.737126   \n",
       "Contract                0.389138      0.034745          0.389480     0.417691   \n",
       "PaperlessBilling        0.333656      0.260691          0.275519     0.310354   \n",
       "PaymentMethod           0.214330      0.003786          0.192405     0.217412   \n",
       "MonthlyCharges         -0.219289     -0.283212         -0.218775    -0.212308   \n",
       "TotalCharges           -0.024821     -0.053770         -0.023302    -0.019971   \n",
       "\n",
       "                  StreamingTV  StreamingMovies  Contract  PaperlessBilling  \\\n",
       "gender               0.000578        -0.001339  0.000095          0.011902   \n",
       "SeniorCitizen       -0.129721        -0.120658 -0.141820         -0.156258   \n",
       "Partner             -0.079066        -0.075310 -0.294094         -0.013957   \n",
       "Dependents           0.138809         0.125086  0.240556          0.110131   \n",
       "tenure               0.024719         0.030252  0.118664         -0.013160   \n",
       "PhoneService         0.171773         0.164379  0.003019         -0.016696   \n",
       "MultipleLines        0.030524         0.027944  0.084037         -0.133538   \n",
       "InternetService      0.712715         0.708336  0.099579          0.138166   \n",
       "OnlineSecurity       0.701526         0.704672  0.389138          0.333656   \n",
       "OnlineBackup         0.603551         0.606037  0.034745          0.260691   \n",
       "DeviceProtection     0.762742         0.766635  0.389480          0.275519   \n",
       "TechSupport          0.737211         0.737126  0.417691          0.310354   \n",
       "StreamingTV          1.000000         0.809507  0.327109          0.202967   \n",
       "StreamingMovies      0.809507         1.000000  0.331126          0.211242   \n",
       "Contract             0.327109         0.331126  1.000000          0.175475   \n",
       "PaperlessBilling     0.202967         0.211242  0.175475          1.000000   \n",
       "PaymentMethod        0.118181         0.124805  0.359487          0.101790   \n",
       "MonthlyCharges      -0.229468        -0.239837 -0.006828         -0.086577   \n",
       "TotalCharges        -0.016845        -0.025150  0.055315         -0.009768   \n",
       "\n",
       "                  PaymentMethod  MonthlyCharges  TotalCharges  \n",
       "gender                -0.004928       -0.008017     -0.012153  \n",
       "SeniorCitizen         -0.093712        0.049154      0.022949  \n",
       "Partner               -0.133280       -0.036518     -0.044214  \n",
       "Dependents             0.124002       -0.028706      0.009710  \n",
       "tenure                 0.075533        0.042605      0.112813  \n",
       "PhoneService          -0.003106       -0.141696     -0.030534  \n",
       "MultipleLines          0.026248        0.024221      0.014915  \n",
       "InternetService        0.008851       -0.288948     -0.037709  \n",
       "OnlineSecurity         0.214330       -0.219289     -0.024821  \n",
       "OnlineBackup           0.003786       -0.283212     -0.053770  \n",
       "DeviceProtection       0.192405       -0.218775     -0.023302  \n",
       "TechSupport            0.217412       -0.212308     -0.019971  \n",
       "StreamingTV            0.118181       -0.229468     -0.016845  \n",
       "StreamingMovies        0.124805       -0.239837     -0.025150  \n",
       "Contract               0.359487       -0.006828      0.055315  \n",
       "PaperlessBilling       0.101790       -0.086577     -0.009768  \n",
       "PaymentMethod          1.000000       -0.009854      0.008564  \n",
       "MonthlyCharges        -0.009854        1.000000      0.268054  \n",
       "TotalCharges           0.008564        0.268054      1.000000  "
      ]
     },
     "execution_count": 44,
     "metadata": {},
     "output_type": "execute_result"
    }
   ],
   "source": [
    "corr=corrDf.corr()\n",
    "corr"
   ]
  },
  {
   "cell_type": "markdown",
   "id": "8208037e",
   "metadata": {},
   "source": [
    "相关性矩阵中，大于0.6就认为两个变量具有较强的相关性，大于0.8则认为具有强相关性。下面通过热力图进一步显示相关系数"
   ]
  },
  {
   "cell_type": "markdown",
   "id": "c51f8256",
   "metadata": {},
   "source": [
    "### 5. 热力图"
   ]
  },
  {
   "cell_type": "code",
   "execution_count": 51,
   "id": "09b35f62",
   "metadata": {},
   "outputs": [
    {
     "data": {
      "text/plain": [
       "Text(0.5, 1.0, '变量之间的相关系数')"
      ]
     },
     "execution_count": 51,
     "metadata": {},
     "output_type": "execute_result"
    },
    {
     "data": {
      "image/png": "[encoded data removed]",
      "text/plain": [
       "<Figure size 1440x1152 with 2 Axes>"
      ]
     },
     "metadata": {
      "needs_background": "light"
     },
     "output_type": "display_data"
    }
   ],
   "source": [
    "plt.figure(figsize=(20,16))\n",
    "rcParams['axes.unicode_minus']=False\n",
    "ax=sns.heatmap(corr,xticklabels=corr.columns,yticklabels=corr.columns,linewidths=0.2,cmap='Greens',annot=True)\n",
    "plt.title('变量之间的相关系数')"
   ]
  },
  {
   "cell_type": "markdown",
   "id": "072f81ae",
   "metadata": {},
   "source": [
    "热力图中颜色越深代表两个变量之间的正相关系数越大，正相关性越强。又图中可看出，互联网服务、网络安全服务、在线备份业务、设备保护业务、技术支出服务、网络电视和网络电影之间存在较强的相关性，多线业务和电话服务之间也存在较强的相关性，并且均为正相关关系。"
   ]
  },
  {
   "cell_type": "markdown",
   "id": "51cbdf31",
   "metadata": {},
   "source": [
    "### 6. one-hot编码"
   ]
  },
  {
   "cell_type": "code",
   "execution_count": 54,
   "id": "557cd7d9",
   "metadata": {},
   "outputs": [
    {
     "data": {
      "text/html": [
       "<div>\n",
       "<style scoped>\n",
       "    .dataframe tbody tr th:only-of-type {\n",
       "        vertical-align: middle;\n",
       "    }\n",
       "\n",
       "    .dataframe tbody tr th {\n",
       "        vertical-align: top;\n",
       "    }\n",
       "\n",
       "    .dataframe thead th {\n",
       "        text-align: right;\n",
       "    }\n",
       "</style>\n",
       "<table border=\"1\" class=\"dataframe\">\n",
       "  <thead>\n",
       "    <tr style=\"text-align: right;\">\n",
       "      <th></th>\n",
       "      <th>SeniorCitizen</th>\n",
       "      <th>tenure</th>\n",
       "      <th>MonthlyCharges</th>\n",
       "      <th>TotalCharges</th>\n",
       "      <th>Churn</th>\n",
       "      <th>gender_Female</th>\n",
       "      <th>gender_Male</th>\n",
       "      <th>Partner_No</th>\n",
       "      <th>Partner_Yes</th>\n",
       "      <th>Dependents_No</th>\n",
       "      <th>...</th>\n",
       "      <th>StreamingMovies_Yes</th>\n",
       "      <th>Contract_Month-to-month</th>\n",
       "      <th>Contract_One year</th>\n",
       "      <th>Contract_Two year</th>\n",
       "      <th>PaperlessBilling_No</th>\n",
       "      <th>PaperlessBilling_Yes</th>\n",
       "      <th>PaymentMethod_Bank transfer (automatic)</th>\n",
       "      <th>PaymentMethod_Credit card (automatic)</th>\n",
       "      <th>PaymentMethod_Electronic check</th>\n",
       "      <th>PaymentMethod_Mailed check</th>\n",
       "    </tr>\n",
       "  </thead>\n",
       "  <tbody>\n",
       "    <tr>\n",
       "      <th>0</th>\n",
       "      <td>0</td>\n",
       "      <td>1</td>\n",
       "      <td>29.85</td>\n",
       "      <td>29.85</td>\n",
       "      <td>0</td>\n",
       "      <td>1</td>\n",
       "      <td>0</td>\n",
       "      <td>0</td>\n",
       "      <td>1</td>\n",
       "      <td>1</td>\n",
       "      <td>...</td>\n",
       "      <td>0</td>\n",
       "      <td>1</td>\n",
       "      <td>0</td>\n",
       "      <td>0</td>\n",
       "      <td>0</td>\n",
       "      <td>1</td>\n",
       "      <td>0</td>\n",
       "      <td>0</td>\n",
       "      <td>1</td>\n",
       "      <td>0</td>\n",
       "    </tr>\n",
       "    <tr>\n",
       "      <th>1</th>\n",
       "      <td>0</td>\n",
       "      <td>34</td>\n",
       "      <td>56.95</td>\n",
       "      <td>1889.50</td>\n",
       "      <td>0</td>\n",
       "      <td>0</td>\n",
       "      <td>1</td>\n",
       "      <td>1</td>\n",
       "      <td>0</td>\n",
       "      <td>1</td>\n",
       "      <td>...</td>\n",
       "      <td>0</td>\n",
       "      <td>0</td>\n",
       "      <td>1</td>\n",
       "      <td>0</td>\n",
       "      <td>1</td>\n",
       "      <td>0</td>\n",
       "      <td>0</td>\n",
       "      <td>0</td>\n",
       "      <td>0</td>\n",
       "      <td>1</td>\n",
       "    </tr>\n",
       "    <tr>\n",
       "      <th>2</th>\n",
       "      <td>0</td>\n",
       "      <td>2</td>\n",
       "      <td>53.85</td>\n",
       "      <td>108.15</td>\n",
       "      <td>1</td>\n",
       "      <td>0</td>\n",
       "      <td>1</td>\n",
       "      <td>1</td>\n",
       "      <td>0</td>\n",
       "      <td>1</td>\n",
       "      <td>...</td>\n",
       "      <td>0</td>\n",
       "      <td>1</td>\n",
       "      <td>0</td>\n",
       "      <td>0</td>\n",
       "      <td>0</td>\n",
       "      <td>1</td>\n",
       "      <td>0</td>\n",
       "      <td>0</td>\n",
       "      <td>0</td>\n",
       "      <td>1</td>\n",
       "    </tr>\n",
       "    <tr>\n",
       "      <th>3</th>\n",
       "      <td>0</td>\n",
       "      <td>45</td>\n",
       "      <td>42.30</td>\n",
       "      <td>1840.75</td>\n",
       "      <td>0</td>\n",
       "      <td>0</td>\n",
       "      <td>1</td>\n",
       "      <td>1</td>\n",
       "      <td>0</td>\n",
       "      <td>1</td>\n",
       "      <td>...</td>\n",
       "      <td>0</td>\n",
       "      <td>0</td>\n",
       "      <td>1</td>\n",
       "      <td>0</td>\n",
       "      <td>1</td>\n",
       "      <td>0</td>\n",
       "      <td>1</td>\n",
       "      <td>0</td>\n",
       "      <td>0</td>\n",
       "      <td>0</td>\n",
       "    </tr>\n",
       "    <tr>\n",
       "      <th>4</th>\n",
       "      <td>0</td>\n",
       "      <td>2</td>\n",
       "      <td>70.70</td>\n",
       "      <td>151.65</td>\n",
       "      <td>1</td>\n",
       "      <td>1</td>\n",
       "      <td>0</td>\n",
       "      <td>1</td>\n",
       "      <td>0</td>\n",
       "      <td>1</td>\n",
       "      <td>...</td>\n",
       "      <td>0</td>\n",
       "      <td>1</td>\n",
       "      <td>0</td>\n",
       "      <td>0</td>\n",
       "      <td>0</td>\n",
       "      <td>1</td>\n",
       "      <td>0</td>\n",
       "      <td>0</td>\n",
       "      <td>1</td>\n",
       "      <td>0</td>\n",
       "    </tr>\n",
       "  </tbody>\n",
       "</table>\n",
       "<p>5 rows × 46 columns</p>\n",
       "</div>"
      ],
      "text/plain": [
       "   SeniorCitizen  tenure  MonthlyCharges  TotalCharges  Churn  gender_Female  \\\n",
       "0              0       1           29.85         29.85      0              1   \n",
       "1              0      34           56.95       1889.50      0              0   \n",
       "2              0       2           53.85        108.15      1              0   \n",
       "3              0      45           42.30       1840.75      0              0   \n",
       "4              0       2           70.70        151.65      1              1   \n",
       "\n",
       "   gender_Male  Partner_No  Partner_Yes  Dependents_No  ...  \\\n",
       "0            0           0            1              1  ...   \n",
       "1            1           1            0              1  ...   \n",
       "2            1           1            0              1  ...   \n",
       "3            1           1            0              1  ...   \n",
       "4            0           1            0              1  ...   \n",
       "\n",
       "   StreamingMovies_Yes  Contract_Month-to-month  Contract_One year  \\\n",
       "0                    0                        1                  0   \n",
       "1                    0                        0                  1   \n",
       "2                    0                        1                  0   \n",
       "3                    0                        0                  1   \n",
       "4                    0                        1                  0   \n",
       "\n",
       "   Contract_Two year  PaperlessBilling_No  PaperlessBilling_Yes  \\\n",
       "0                  0                    0                     1   \n",
       "1                  0                    1                     0   \n",
       "2                  0                    0                     1   \n",
       "3                  0                    1                     0   \n",
       "4                  0                    0                     1   \n",
       "\n",
       "   PaymentMethod_Bank transfer (automatic)  \\\n",
       "0                                        0   \n",
       "1                                        0   \n",
       "2                                        0   \n",
       "3                                        1   \n",
       "4                                        0   \n",
       "\n",
       "   PaymentMethod_Credit card (automatic)  PaymentMethod_Electronic check  \\\n",
       "0                                      0                               1   \n",
       "1                                      0                               0   \n",
       "2                                      0                               0   \n",
       "3                                      0                               0   \n",
       "4                                      0                               1   \n",
       "\n",
       "   PaymentMethod_Mailed check  \n",
       "0                           0  \n",
       "1                           1  \n",
       "2                           1  \n",
       "3                           0  \n",
       "4                           0  \n",
       "\n",
       "[5 rows x 46 columns]"
      ]
     },
     "execution_count": 54,
     "metadata": {},
     "output_type": "execute_result"
    }
   ],
   "source": [
    "data_dummies=pd.get_dummies(data.iloc[:,1:21])\n",
    "data_dummies.head()"
   ]
  },
  {
   "cell_type": "markdown",
   "id": "702a0065",
   "metadata": {},
   "source": [
    "### 7. 电信用户是否流失与各变量之间的相关性"
   ]
  },
  {
   "cell_type": "code",
   "execution_count": 57,
   "id": "df638c65",
   "metadata": {},
   "outputs": [
    {
     "data": {
      "text/plain": [
       "Text(0.5, 1.0, '用户是否流失与各变量之间的相关性')"
      ]
     },
     "execution_count": 57,
     "metadata": {},
     "output_type": "execute_result"
    },
    {
     "data": {
      "image/png": "[encoded data removed]",
      "text/plain": [
       "<Figure size 1080x576 with 1 Axes>"
      ]
     },
     "metadata": {
      "needs_background": "light"
     },
     "output_type": "display_data"
    }
   ],
   "source": [
    "plt.figure(figsize=(15,8))\n",
    "data_dummies.corr()['Churn'].sort_values(ascending=False).plot(kind='bar',color='c')\n",
    "plt.title('用户是否流失与各变量之间的相关性')"
   ]
  },
  {
   "cell_type": "markdown",
   "id": "110e865f",
   "metadata": {},
   "source": [
    "由上图可知电话服务和性别这两个变量和用户流失的相关性非常小，几乎接近于零，可不考虑这两个变量对用户流失的影响，可以直接剔除这两个变量。"
   ]
  },
  {
   "cell_type": "markdown",
   "id": "f2fed9c5",
   "metadata": {},
   "source": [
    "### 8. 网络安全服务、在线备份业务、设备保护业务、技术支持服务、网络电视、网络电影和无网络服务对客户流失率的影响"
   ]
  },
  {
   "cell_type": "code",
   "execution_count": 59,
   "id": "4a51e6e4",
   "metadata": {},
   "outputs": [
    {
     "data": {
      "image/png": "[encoded data removed]",
      "text/plain": [
       "<Figure size 1152x720 with 6 Axes>"
      ]
     },
     "metadata": {
      "needs_background": "light"
     },
     "output_type": "display_data"
    }
   ],
   "source": [
    "covariables=['OnlineSecurity','OnlineBackup','DeviceProtection','TechSupport','StreamingTV','StreamingMovies']\n",
    "fig,axes=plt.subplots(nrows=2,ncols=3,figsize=(16,10))\n",
    "for i,item in enumerate(covariables):\n",
    "    plt.subplot(2,3,(i+1))\n",
    "    ax=sns.countplot(x=item,hue='Churn',data=data,palette='Accent',order=['Yes','No','No internet service'])\n",
    "    plt.xlabel(str(item))\n",
    "    plt.title('Churn by'+str(item))\n",
    "    i = i+1"
   ]
  },
  {
   "cell_type": "markdown",
   "id": "6ecfaf46",
   "metadata": {},
   "source": [
    "由上图可看到，未开通这些服务的用户流失量都很大。"
   ]
  },
  {
   "cell_type": "markdown",
   "id": "b620e1d0",
   "metadata": {},
   "source": [
    "### 9. 签订合同方式对客户流失率的影响"
   ]
  },
  {
   "cell_type": "code",
   "execution_count": 61,
   "id": "84eb7fac",
   "metadata": {},
   "outputs": [
    {
     "data": {
      "text/plain": [
       "Text(0.5, 1.0, 'Churn by Contract type')"
      ]
     },
     "execution_count": 61,
     "metadata": {},
     "output_type": "execute_result"
    },
    {
     "data": {
      "image/png": "[encoded data removed]",
      "text/plain": [
       "<Figure size 432x432 with 1 Axes>"
      ]
     },
     "metadata": {
      "needs_background": "light"
     },
     "output_type": "display_data"
    }
   ],
   "source": [
    "sns.barplot(x='Contract',y='Churn',data=data,palette='Pastel2',order=['Month-to-month','One year','Two year'])\n",
    "plt.title('Churn by Contract type')"
   ]
  },
  {
   "cell_type": "markdown",
   "id": "0ec1864b",
   "metadata": {},
   "source": [
    "又上图可见，按月签订的客户流失人数最多，两天签订一次合同的客户流失人数最少，因此可加大签订长期合同的推广力度。"
   ]
  },
  {
   "cell_type": "markdown",
   "id": "2df7c682",
   "metadata": {},
   "source": [
    "### 10. 付款方式对客户流失率的影响"
   ]
  },
  {
   "cell_type": "code",
   "execution_count": 62,
   "id": "21f36207",
   "metadata": {},
   "outputs": [
    {
     "data": {
      "text/plain": [
       "Text(0.5, 1.0, 'Churn by PaymentMethod type')"
      ]
     },
     "execution_count": 62,
     "metadata": {},
     "output_type": "execute_result"
    },
    {
     "data": {
      "image/png": "[encoded data removed]",
      "text/plain": [
       "<Figure size 720x360 with 1 Axes>"
      ]
     },
     "metadata": {
      "needs_background": "light"
     },
     "output_type": "display_data"
    }
   ],
   "source": [
    "plt.figure(figsize=(10,5))\n",
    "sns.barplot(x='PaymentMethod',y='Churn',data=data,palette='Pastel2',order=['Bank transfer (automatic)','Credit card (automatic)','Electronic check','Mailed check'])\n",
    "plt.title('Churn by PaymentMethod type')"
   ]
  },
  {
   "cell_type": "markdown",
   "id": "1fdfa7dc",
   "metadata": {},
   "source": [
    "由上图可知，使用电子支付方式的用户流失率最高，可以进一步设计实验来判断是否是电子支付流程中的某一环节出了问题，应与相关部门沟通此问题。"
   ]
  },
  {
   "cell_type": "markdown",
   "id": "9490c120",
   "metadata": {},
   "source": [
    "## 四、数据预处理"
   ]
  },
  {
   "cell_type": "code",
   "execution_count": 63,
   "id": "684f2e32",
   "metadata": {},
   "outputs": [
    {
     "data": {
      "text/html": [
       "<div>\n",
       "<style scoped>\n",
       "    .dataframe tbody tr th:only-of-type {\n",
       "        vertical-align: middle;\n",
       "    }\n",
       "\n",
       "    .dataframe tbody tr th {\n",
       "        vertical-align: top;\n",
       "    }\n",
       "\n",
       "    .dataframe thead th {\n",
       "        text-align: right;\n",
       "    }\n",
       "</style>\n",
       "<table border=\"1\" class=\"dataframe\">\n",
       "  <thead>\n",
       "    <tr style=\"text-align: right;\">\n",
       "      <th></th>\n",
       "      <th>customerID</th>\n",
       "      <th>gender</th>\n",
       "      <th>SeniorCitizen</th>\n",
       "      <th>Partner</th>\n",
       "      <th>Dependents</th>\n",
       "      <th>tenure</th>\n",
       "      <th>PhoneService</th>\n",
       "      <th>MultipleLines</th>\n",
       "      <th>InternetService</th>\n",
       "      <th>OnlineSecurity</th>\n",
       "      <th>...</th>\n",
       "      <th>DeviceProtection</th>\n",
       "      <th>TechSupport</th>\n",
       "      <th>StreamingTV</th>\n",
       "      <th>StreamingMovies</th>\n",
       "      <th>Contract</th>\n",
       "      <th>PaperlessBilling</th>\n",
       "      <th>PaymentMethod</th>\n",
       "      <th>MonthlyCharges</th>\n",
       "      <th>TotalCharges</th>\n",
       "      <th>Churn</th>\n",
       "    </tr>\n",
       "  </thead>\n",
       "  <tbody>\n",
       "    <tr>\n",
       "      <th>0</th>\n",
       "      <td>7590-VHVEG</td>\n",
       "      <td>Female</td>\n",
       "      <td>0</td>\n",
       "      <td>Yes</td>\n",
       "      <td>No</td>\n",
       "      <td>1</td>\n",
       "      <td>No</td>\n",
       "      <td>No phone service</td>\n",
       "      <td>DSL</td>\n",
       "      <td>No</td>\n",
       "      <td>...</td>\n",
       "      <td>No</td>\n",
       "      <td>No</td>\n",
       "      <td>No</td>\n",
       "      <td>No</td>\n",
       "      <td>Month-to-month</td>\n",
       "      <td>Yes</td>\n",
       "      <td>Electronic check</td>\n",
       "      <td>29.85</td>\n",
       "      <td>29.85</td>\n",
       "      <td>0</td>\n",
       "    </tr>\n",
       "    <tr>\n",
       "      <th>1</th>\n",
       "      <td>5575-GNVDE</td>\n",
       "      <td>Male</td>\n",
       "      <td>0</td>\n",
       "      <td>No</td>\n",
       "      <td>No</td>\n",
       "      <td>34</td>\n",
       "      <td>Yes</td>\n",
       "      <td>No</td>\n",
       "      <td>DSL</td>\n",
       "      <td>Yes</td>\n",
       "      <td>...</td>\n",
       "      <td>Yes</td>\n",
       "      <td>No</td>\n",
       "      <td>No</td>\n",
       "      <td>No</td>\n",
       "      <td>One year</td>\n",
       "      <td>No</td>\n",
       "      <td>Mailed check</td>\n",
       "      <td>56.95</td>\n",
       "      <td>1889.50</td>\n",
       "      <td>0</td>\n",
       "    </tr>\n",
       "    <tr>\n",
       "      <th>2</th>\n",
       "      <td>3668-QPYBK</td>\n",
       "      <td>Male</td>\n",
       "      <td>0</td>\n",
       "      <td>No</td>\n",
       "      <td>No</td>\n",
       "      <td>2</td>\n",
       "      <td>Yes</td>\n",
       "      <td>No</td>\n",
       "      <td>DSL</td>\n",
       "      <td>Yes</td>\n",
       "      <td>...</td>\n",
       "      <td>No</td>\n",
       "      <td>No</td>\n",
       "      <td>No</td>\n",
       "      <td>No</td>\n",
       "      <td>Month-to-month</td>\n",
       "      <td>Yes</td>\n",
       "      <td>Mailed check</td>\n",
       "      <td>53.85</td>\n",
       "      <td>108.15</td>\n",
       "      <td>1</td>\n",
       "    </tr>\n",
       "    <tr>\n",
       "      <th>3</th>\n",
       "      <td>7795-CFOCW</td>\n",
       "      <td>Male</td>\n",
       "      <td>0</td>\n",
       "      <td>No</td>\n",
       "      <td>No</td>\n",
       "      <td>45</td>\n",
       "      <td>No</td>\n",
       "      <td>No phone service</td>\n",
       "      <td>DSL</td>\n",
       "      <td>Yes</td>\n",
       "      <td>...</td>\n",
       "      <td>Yes</td>\n",
       "      <td>Yes</td>\n",
       "      <td>No</td>\n",
       "      <td>No</td>\n",
       "      <td>One year</td>\n",
       "      <td>No</td>\n",
       "      <td>Bank transfer (automatic)</td>\n",
       "      <td>42.30</td>\n",
       "      <td>1840.75</td>\n",
       "      <td>0</td>\n",
       "    </tr>\n",
       "    <tr>\n",
       "      <th>4</th>\n",
       "      <td>9237-HQITU</td>\n",
       "      <td>Female</td>\n",
       "      <td>0</td>\n",
       "      <td>No</td>\n",
       "      <td>No</td>\n",
       "      <td>2</td>\n",
       "      <td>Yes</td>\n",
       "      <td>No</td>\n",
       "      <td>Fiber optic</td>\n",
       "      <td>No</td>\n",
       "      <td>...</td>\n",
       "      <td>No</td>\n",
       "      <td>No</td>\n",
       "      <td>No</td>\n",
       "      <td>No</td>\n",
       "      <td>Month-to-month</td>\n",
       "      <td>Yes</td>\n",
       "      <td>Electronic check</td>\n",
       "      <td>70.70</td>\n",
       "      <td>151.65</td>\n",
       "      <td>1</td>\n",
       "    </tr>\n",
       "  </tbody>\n",
       "</table>\n",
       "<p>5 rows × 21 columns</p>\n",
       "</div>"
      ],
      "text/plain": [
       "   customerID  gender  SeniorCitizen Partner Dependents  tenure PhoneService  \\\n",
       "0  7590-VHVEG  Female              0     Yes         No       1           No   \n",
       "1  5575-GNVDE    Male              0      No         No      34          Yes   \n",
       "2  3668-QPYBK    Male              0      No         No       2          Yes   \n",
       "3  7795-CFOCW    Male              0      No         No      45           No   \n",
       "4  9237-HQITU  Female              0      No         No       2          Yes   \n",
       "\n",
       "      MultipleLines InternetService OnlineSecurity  ... DeviceProtection  \\\n",
       "0  No phone service             DSL             No  ...               No   \n",
       "1                No             DSL            Yes  ...              Yes   \n",
       "2                No             DSL            Yes  ...               No   \n",
       "3  No phone service             DSL            Yes  ...              Yes   \n",
       "4                No     Fiber optic             No  ...               No   \n",
       "\n",
       "  TechSupport StreamingTV StreamingMovies        Contract PaperlessBilling  \\\n",
       "0          No          No              No  Month-to-month              Yes   \n",
       "1          No          No              No        One year               No   \n",
       "2          No          No              No  Month-to-month              Yes   \n",
       "3         Yes          No              No        One year               No   \n",
       "4          No          No              No  Month-to-month              Yes   \n",
       "\n",
       "               PaymentMethod MonthlyCharges  TotalCharges  Churn  \n",
       "0           Electronic check          29.85         29.85      0  \n",
       "1               Mailed check          56.95       1889.50      0  \n",
       "2               Mailed check          53.85        108.15      1  \n",
       "3  Bank transfer (automatic)          42.30       1840.75      0  \n",
       "4           Electronic check          70.70        151.65      1  \n",
       "\n",
       "[5 rows x 21 columns]"
      ]
     },
     "execution_count": 63,
     "metadata": {},
     "output_type": "execute_result"
    }
   ],
   "source": [
    "data.head()"
   ]
  },
  {
   "cell_type": "markdown",
   "id": "7b09ce59",
   "metadata": {},
   "source": [
    "根据前面的分析可知，性别和电话服务这两个变量对用户流失的影响很小，应予以剔除，用户ID只是一些随机生成的字符，也可以剔除。"
   ]
  },
  {
   "cell_type": "markdown",
   "id": "66639270",
   "metadata": {},
   "source": [
    "### 1. 剔除无关变量"
   ]
  },
  {
   "cell_type": "code",
   "execution_count": 65,
   "id": "a03a26ba",
   "metadata": {},
   "outputs": [
    {
     "data": {
      "text/html": [
       "<div>\n",
       "<style scoped>\n",
       "    .dataframe tbody tr th:only-of-type {\n",
       "        vertical-align: middle;\n",
       "    }\n",
       "\n",
       "    .dataframe tbody tr th {\n",
       "        vertical-align: top;\n",
       "    }\n",
       "\n",
       "    .dataframe thead th {\n",
       "        text-align: right;\n",
       "    }\n",
       "</style>\n",
       "<table border=\"1\" class=\"dataframe\">\n",
       "  <thead>\n",
       "    <tr style=\"text-align: right;\">\n",
       "      <th></th>\n",
       "      <th>SeniorCitizen</th>\n",
       "      <th>Partner</th>\n",
       "      <th>Dependents</th>\n",
       "      <th>tenure</th>\n",
       "      <th>MultipleLines</th>\n",
       "      <th>InternetService</th>\n",
       "      <th>OnlineSecurity</th>\n",
       "      <th>OnlineBackup</th>\n",
       "      <th>DeviceProtection</th>\n",
       "      <th>TechSupport</th>\n",
       "      <th>StreamingTV</th>\n",
       "      <th>StreamingMovies</th>\n",
       "      <th>Contract</th>\n",
       "      <th>PaperlessBilling</th>\n",
       "      <th>PaymentMethod</th>\n",
       "      <th>MonthlyCharges</th>\n",
       "      <th>TotalCharges</th>\n",
       "    </tr>\n",
       "  </thead>\n",
       "  <tbody>\n",
       "    <tr>\n",
       "      <th>0</th>\n",
       "      <td>0</td>\n",
       "      <td>Yes</td>\n",
       "      <td>No</td>\n",
       "      <td>1</td>\n",
       "      <td>No phone service</td>\n",
       "      <td>DSL</td>\n",
       "      <td>No</td>\n",
       "      <td>Yes</td>\n",
       "      <td>No</td>\n",
       "      <td>No</td>\n",
       "      <td>No</td>\n",
       "      <td>No</td>\n",
       "      <td>Month-to-month</td>\n",
       "      <td>Yes</td>\n",
       "      <td>Electronic check</td>\n",
       "      <td>29.85</td>\n",
       "      <td>29.85</td>\n",
       "    </tr>\n",
       "    <tr>\n",
       "      <th>1</th>\n",
       "      <td>0</td>\n",
       "      <td>No</td>\n",
       "      <td>No</td>\n",
       "      <td>34</td>\n",
       "      <td>No</td>\n",
       "      <td>DSL</td>\n",
       "      <td>Yes</td>\n",
       "      <td>No</td>\n",
       "      <td>Yes</td>\n",
       "      <td>No</td>\n",
       "      <td>No</td>\n",
       "      <td>No</td>\n",
       "      <td>One year</td>\n",
       "      <td>No</td>\n",
       "      <td>Mailed check</td>\n",
       "      <td>56.95</td>\n",
       "      <td>1889.50</td>\n",
       "    </tr>\n",
       "    <tr>\n",
       "      <th>2</th>\n",
       "      <td>0</td>\n",
       "      <td>No</td>\n",
       "      <td>No</td>\n",
       "      <td>2</td>\n",
       "      <td>No</td>\n",
       "      <td>DSL</td>\n",
       "      <td>Yes</td>\n",
       "      <td>Yes</td>\n",
       "      <td>No</td>\n",
       "      <td>No</td>\n",
       "      <td>No</td>\n",
       "      <td>No</td>\n",
       "      <td>Month-to-month</td>\n",
       "      <td>Yes</td>\n",
       "      <td>Mailed check</td>\n",
       "      <td>53.85</td>\n",
       "      <td>108.15</td>\n",
       "    </tr>\n",
       "    <tr>\n",
       "      <th>3</th>\n",
       "      <td>0</td>\n",
       "      <td>No</td>\n",
       "      <td>No</td>\n",
       "      <td>45</td>\n",
       "      <td>No phone service</td>\n",
       "      <td>DSL</td>\n",
       "      <td>Yes</td>\n",
       "      <td>No</td>\n",
       "      <td>Yes</td>\n",
       "      <td>Yes</td>\n",
       "      <td>No</td>\n",
       "      <td>No</td>\n",
       "      <td>One year</td>\n",
       "      <td>No</td>\n",
       "      <td>Bank transfer (automatic)</td>\n",
       "      <td>42.30</td>\n",
       "      <td>1840.75</td>\n",
       "    </tr>\n",
       "    <tr>\n",
       "      <th>4</th>\n",
       "      <td>0</td>\n",
       "      <td>No</td>\n",
       "      <td>No</td>\n",
       "      <td>2</td>\n",
       "      <td>No</td>\n",
       "      <td>Fiber optic</td>\n",
       "      <td>No</td>\n",
       "      <td>No</td>\n",
       "      <td>No</td>\n",
       "      <td>No</td>\n",
       "      <td>No</td>\n",
       "      <td>No</td>\n",
       "      <td>Month-to-month</td>\n",
       "      <td>Yes</td>\n",
       "      <td>Electronic check</td>\n",
       "      <td>70.70</td>\n",
       "      <td>151.65</td>\n",
       "    </tr>\n",
       "  </tbody>\n",
       "</table>\n",
       "</div>"
      ],
      "text/plain": [
       "   SeniorCitizen Partner Dependents  tenure     MultipleLines InternetService  \\\n",
       "0              0     Yes         No       1  No phone service             DSL   \n",
       "1              0      No         No      34                No             DSL   \n",
       "2              0      No         No       2                No             DSL   \n",
       "3              0      No         No      45  No phone service             DSL   \n",
       "4              0      No         No       2                No     Fiber optic   \n",
       "\n",
       "  OnlineSecurity OnlineBackup DeviceProtection TechSupport StreamingTV  \\\n",
       "0             No          Yes               No          No          No   \n",
       "1            Yes           No              Yes          No          No   \n",
       "2            Yes          Yes               No          No          No   \n",
       "3            Yes           No              Yes         Yes          No   \n",
       "4             No           No               No          No          No   \n",
       "\n",
       "  StreamingMovies        Contract PaperlessBilling              PaymentMethod  \\\n",
       "0              No  Month-to-month              Yes           Electronic check   \n",
       "1              No        One year               No               Mailed check   \n",
       "2              No  Month-to-month              Yes               Mailed check   \n",
       "3              No        One year               No  Bank transfer (automatic)   \n",
       "4              No  Month-to-month              Yes           Electronic check   \n",
       "\n",
       "   MonthlyCharges  TotalCharges  \n",
       "0           29.85         29.85  \n",
       "1           56.95       1889.50  \n",
       "2           53.85        108.15  \n",
       "3           42.30       1840.75  \n",
       "4           70.70        151.65  "
      ]
     },
     "execution_count": 65,
     "metadata": {},
     "output_type": "execute_result"
    }
   ],
   "source": [
    "data1=data.iloc[:,2:20]\n",
    "data1.drop('PhoneService',axis=1,inplace=True)\n",
    "data1.head()"
   ]
  },
  {
   "cell_type": "code",
   "execution_count": 66,
   "id": "00c3640f",
   "metadata": {},
   "outputs": [],
   "source": [
    "customer_id=data['customerID']"
   ]
  },
  {
   "cell_type": "markdown",
   "id": "25a4c01f",
   "metadata": {},
   "source": [
    "如果数值型变量不经过标准化，那么在后面的模型中构建损失函数时会受到数值范围较大的变量的影响，因此下面对客户的职位、月费用和总费用进行标准化。（使用均值和方差缩放）"
   ]
  },
  {
   "cell_type": "markdown",
   "id": "7470095c",
   "metadata": {},
   "source": [
    "### 2. 标准化数值型变量"
   ]
  },
  {
   "cell_type": "code",
   "execution_count": 67,
   "id": "dae1375f",
   "metadata": {},
   "outputs": [
    {
     "data": {
      "text/plain": [
       "array([[-1.28024804, -1.16169394, -0.99419409],\n",
       "       [ 0.06430269, -0.26087792, -0.17373982],\n",
       "       [-1.23950408, -0.36392329, -0.95964911],\n",
       "       ...,\n",
       "       [-0.87280842, -1.17000405, -0.85451414],\n",
       "       [-1.15801615,  0.31916782, -0.87209546],\n",
       "       [ 1.36810945,  1.35793167,  2.01234407]])"
      ]
     },
     "execution_count": 67,
     "metadata": {},
     "output_type": "execute_result"
    }
   ],
   "source": [
    "scaler=StandardScaler(copy=False)\n",
    "scaler.fit_transform(data1[['tenure','MonthlyCharges','TotalCharges']])\n",
    "#fit_transform的作用是先拟合数据，然后将拟合到的数据转化为标准形式"
   ]
  },
  {
   "cell_type": "code",
   "execution_count": 68,
   "id": "1d2c61d3",
   "metadata": {},
   "outputs": [],
   "source": [
    "data1[['tenure','MonthlyCharges','TotalCharges']]=scaler.fit_transform(data1[['tenure','MonthlyCharges','TotalCharges']])"
   ]
  },
  {
   "cell_type": "markdown",
   "id": "c53d089d",
   "metadata": {},
   "source": [
    "在删除无关变量，标准化数值型变量之后，下面使用箱线图查看数值型变量是否存在异常值。"
   ]
  },
  {
   "cell_type": "markdown",
   "id": "34e24b57",
   "metadata": {},
   "source": [
    "### 3. 检查异常值"
   ]
  },
  {
   "cell_type": "code",
   "execution_count": 69,
   "id": "837fbe19",
   "metadata": {},
   "outputs": [
    {
     "data": {
      "text/plain": [
       "Text(0.5, 1.0, '检查标准化后的客户职位、月费用和总费用是否存在异常值')"
      ]
     },
     "execution_count": 69,
     "metadata": {},
     "output_type": "execute_result"
    },
    {
     "data": {
      "image/png": "[encoded data removed]",
      "text/plain": [
       "<Figure size 720x360 with 1 Axes>"
      ]
     },
     "metadata": {
      "needs_background": "light"
     },
     "output_type": "display_data"
    }
   ],
   "source": [
    "plt.figure(figsize=(10,5))\n",
    "numbox=sns.boxplot(data=data1[['tenure','MonthlyCharges','TotalCharges']],palette='Accent')\n",
    "plt.title('检查标准化后的客户职位、月费用和总费用是否存在异常值')"
   ]
  },
  {
   "cell_type": "markdown",
   "id": "d7d033b4",
   "metadata": {},
   "source": [
    "由上图可知，这三个变量不存在明显的异常值。"
   ]
  },
  {
   "cell_type": "markdown",
   "id": "622aed41",
   "metadata": {},
   "source": [
    "查看对象类型字段中存在的值"
   ]
  },
  {
   "cell_type": "markdown",
   "id": "e93823ad",
   "metadata": {},
   "source": [
    "### 4. 替换部分字段"
   ]
  },
  {
   "cell_type": "code",
   "execution_count": 72,
   "id": "f16466fe",
   "metadata": {},
   "outputs": [
    {
     "name": "stdout",
     "output_type": "stream",
     "text": [
      "Partner -> ['Yes' 'No']\n",
      "Dependents -> ['No' 'Yes']\n",
      "MultipleLines -> ['No phone service' 'No' 'Yes']\n",
      "InternetService -> ['DSL' 'Fiber optic' 'No']\n",
      "OnlineSecurity -> ['No' 'Yes' 'No internet service']\n",
      "OnlineBackup -> ['Yes' 'No' 'No internet service']\n",
      "DeviceProtection -> ['No' 'Yes' 'No internet service']\n",
      "TechSupport -> ['No' 'Yes' 'No internet service']\n",
      "StreamingTV -> ['No' 'Yes' 'No internet service']\n",
      "StreamingMovies -> ['No' 'Yes' 'No internet service']\n",
      "Contract -> ['Month-to-month' 'One year' 'Two year']\n",
      "PaperlessBilling -> ['Yes' 'No']\n",
      "PaymentMethod -> ['Electronic check' 'Mailed check' 'Bank transfer (automatic)'\n",
      " 'Credit card (automatic)']\n"
     ]
    }
   ],
   "source": [
    "def uni(columnlabel):\n",
    "    print(columnlabel,'->',data1[columnlabel].unique())\n",
    "dataobject=data1.select_dtypes(['object'])\n",
    "for i in range(0,len(dataobject.columns)):\n",
    "    uni(dataobject.columns[i])"
   ]
  },
  {
   "cell_type": "markdown",
   "id": "63ecbf87",
   "metadata": {},
   "source": [
    "根据之前的探索性分析可知，无互联网服务对客户的流失率影响十分小，No internet service和No可认为是一致的，因此下面将用No来代替No internet service"
   ]
  },
  {
   "cell_type": "code",
   "execution_count": 73,
   "id": "19e76cfb",
   "metadata": {},
   "outputs": [
    {
     "name": "stdout",
     "output_type": "stream",
     "text": [
      "Partner -> ['Yes' 'No']\n",
      "Dependents -> ['No' 'Yes']\n",
      "MultipleLines -> ['No' 'Yes']\n",
      "InternetService -> ['DSL' 'Fiber optic' 'No']\n",
      "OnlineSecurity -> ['No' 'Yes']\n",
      "OnlineBackup -> ['Yes' 'No']\n",
      "DeviceProtection -> ['No' 'Yes']\n",
      "TechSupport -> ['No' 'Yes']\n",
      "StreamingTV -> ['No' 'Yes']\n",
      "StreamingMovies -> ['No' 'Yes']\n",
      "Contract -> ['Month-to-month' 'One year' 'Two year']\n",
      "PaperlessBilling -> ['Yes' 'No']\n",
      "PaymentMethod -> ['Electronic check' 'Mailed check' 'Bank transfer (automatic)'\n",
      " 'Credit card (automatic)']\n"
     ]
    }
   ],
   "source": [
    "data1.replace(to_replace='No internet service',value='No',inplace=True)\n",
    "data1.replace(to_replace='No phone service',value='No',inplace=True)\n",
    "for i in range(0,len(dataobject.columns)):\n",
    "    uni(dataobject.columns[i])"
   ]
  },
  {
   "cell_type": "code",
   "execution_count": 74,
   "id": "1790e297",
   "metadata": {
    "scrolled": true
   },
   "outputs": [
    {
     "data": {
      "text/html": [
       "<div>\n",
       "<style scoped>\n",
       "    .dataframe tbody tr th:only-of-type {\n",
       "        vertical-align: middle;\n",
       "    }\n",
       "\n",
       "    .dataframe tbody tr th {\n",
       "        vertical-align: top;\n",
       "    }\n",
       "\n",
       "    .dataframe thead th {\n",
       "        text-align: right;\n",
       "    }\n",
       "</style>\n",
       "<table border=\"1\" class=\"dataframe\">\n",
       "  <thead>\n",
       "    <tr style=\"text-align: right;\">\n",
       "      <th></th>\n",
       "      <th>SeniorCitizen</th>\n",
       "      <th>Partner</th>\n",
       "      <th>Dependents</th>\n",
       "      <th>tenure</th>\n",
       "      <th>MultipleLines</th>\n",
       "      <th>InternetService</th>\n",
       "      <th>OnlineSecurity</th>\n",
       "      <th>OnlineBackup</th>\n",
       "      <th>DeviceProtection</th>\n",
       "      <th>TechSupport</th>\n",
       "      <th>StreamingTV</th>\n",
       "      <th>StreamingMovies</th>\n",
       "      <th>Contract</th>\n",
       "      <th>PaperlessBilling</th>\n",
       "      <th>PaymentMethod</th>\n",
       "      <th>MonthlyCharges</th>\n",
       "      <th>TotalCharges</th>\n",
       "    </tr>\n",
       "  </thead>\n",
       "  <tbody>\n",
       "    <tr>\n",
       "      <th>0</th>\n",
       "      <td>0</td>\n",
       "      <td>Yes</td>\n",
       "      <td>No</td>\n",
       "      <td>-1.280248</td>\n",
       "      <td>No</td>\n",
       "      <td>DSL</td>\n",
       "      <td>No</td>\n",
       "      <td>Yes</td>\n",
       "      <td>No</td>\n",
       "      <td>No</td>\n",
       "      <td>No</td>\n",
       "      <td>No</td>\n",
       "      <td>Month-to-month</td>\n",
       "      <td>Yes</td>\n",
       "      <td>Electronic check</td>\n",
       "      <td>-1.161694</td>\n",
       "      <td>-0.994194</td>\n",
       "    </tr>\n",
       "    <tr>\n",
       "      <th>1</th>\n",
       "      <td>0</td>\n",
       "      <td>No</td>\n",
       "      <td>No</td>\n",
       "      <td>0.064303</td>\n",
       "      <td>No</td>\n",
       "      <td>DSL</td>\n",
       "      <td>Yes</td>\n",
       "      <td>No</td>\n",
       "      <td>Yes</td>\n",
       "      <td>No</td>\n",
       "      <td>No</td>\n",
       "      <td>No</td>\n",
       "      <td>One year</td>\n",
       "      <td>No</td>\n",
       "      <td>Mailed check</td>\n",
       "      <td>-0.260878</td>\n",
       "      <td>-0.173740</td>\n",
       "    </tr>\n",
       "    <tr>\n",
       "      <th>2</th>\n",
       "      <td>0</td>\n",
       "      <td>No</td>\n",
       "      <td>No</td>\n",
       "      <td>-1.239504</td>\n",
       "      <td>No</td>\n",
       "      <td>DSL</td>\n",
       "      <td>Yes</td>\n",
       "      <td>Yes</td>\n",
       "      <td>No</td>\n",
       "      <td>No</td>\n",
       "      <td>No</td>\n",
       "      <td>No</td>\n",
       "      <td>Month-to-month</td>\n",
       "      <td>Yes</td>\n",
       "      <td>Mailed check</td>\n",
       "      <td>-0.363923</td>\n",
       "      <td>-0.959649</td>\n",
       "    </tr>\n",
       "    <tr>\n",
       "      <th>3</th>\n",
       "      <td>0</td>\n",
       "      <td>No</td>\n",
       "      <td>No</td>\n",
       "      <td>0.512486</td>\n",
       "      <td>No</td>\n",
       "      <td>DSL</td>\n",
       "      <td>Yes</td>\n",
       "      <td>No</td>\n",
       "      <td>Yes</td>\n",
       "      <td>Yes</td>\n",
       "      <td>No</td>\n",
       "      <td>No</td>\n",
       "      <td>One year</td>\n",
       "      <td>No</td>\n",
       "      <td>Bank transfer (automatic)</td>\n",
       "      <td>-0.747850</td>\n",
       "      <td>-0.195248</td>\n",
       "    </tr>\n",
       "    <tr>\n",
       "      <th>4</th>\n",
       "      <td>0</td>\n",
       "      <td>No</td>\n",
       "      <td>No</td>\n",
       "      <td>-1.239504</td>\n",
       "      <td>No</td>\n",
       "      <td>Fiber optic</td>\n",
       "      <td>No</td>\n",
       "      <td>No</td>\n",
       "      <td>No</td>\n",
       "      <td>No</td>\n",
       "      <td>No</td>\n",
       "      <td>No</td>\n",
       "      <td>Month-to-month</td>\n",
       "      <td>Yes</td>\n",
       "      <td>Electronic check</td>\n",
       "      <td>0.196178</td>\n",
       "      <td>-0.940457</td>\n",
       "    </tr>\n",
       "  </tbody>\n",
       "</table>\n",
       "</div>"
      ],
      "text/plain": [
       "   SeniorCitizen Partner Dependents    tenure MultipleLines InternetService  \\\n",
       "0              0     Yes         No -1.280248            No             DSL   \n",
       "1              0      No         No  0.064303            No             DSL   \n",
       "2              0      No         No -1.239504            No             DSL   \n",
       "3              0      No         No  0.512486            No             DSL   \n",
       "4              0      No         No -1.239504            No     Fiber optic   \n",
       "\n",
       "  OnlineSecurity OnlineBackup DeviceProtection TechSupport StreamingTV  \\\n",
       "0             No          Yes               No          No          No   \n",
       "1            Yes           No              Yes          No          No   \n",
       "2            Yes          Yes               No          No          No   \n",
       "3            Yes           No              Yes         Yes          No   \n",
       "4             No           No               No          No          No   \n",
       "\n",
       "  StreamingMovies        Contract PaperlessBilling              PaymentMethod  \\\n",
       "0              No  Month-to-month              Yes           Electronic check   \n",
       "1              No        One year               No               Mailed check   \n",
       "2              No  Month-to-month              Yes               Mailed check   \n",
       "3              No        One year               No  Bank transfer (automatic)   \n",
       "4              No  Month-to-month              Yes           Electronic check   \n",
       "\n",
       "   MonthlyCharges  TotalCharges  \n",
       "0       -1.161694     -0.994194  \n",
       "1       -0.260878     -0.173740  \n",
       "2       -0.363923     -0.959649  \n",
       "3       -0.747850     -0.195248  \n",
       "4        0.196178     -0.940457  "
      ]
     },
     "execution_count": 74,
     "metadata": {},
     "output_type": "execute_result"
    }
   ],
   "source": [
    "data1.head()"
   ]
  },
  {
   "cell_type": "markdown",
   "id": "cd3bcd7b",
   "metadata": {},
   "source": [
    "目前已经完成了提出变量、标准化数值型变量、替换部分值，为了建立模型，下面需要将分类数据转换为整数编码（使用Scikit-learn标签编码）"
   ]
  },
  {
   "cell_type": "markdown",
   "id": "57d55a3c",
   "metadata": {},
   "source": [
    "### 5. 类别型变量编码"
   ]
  },
  {
   "cell_type": "code",
   "execution_count": 75,
   "id": "3537a6c3",
   "metadata": {},
   "outputs": [
    {
     "name": "stdout",
     "output_type": "stream",
     "text": [
      "Partner -> [1 0]\n",
      "Dependents -> [0 1]\n",
      "MultipleLines -> [0 1]\n",
      "InternetService -> [0 1 2]\n",
      "OnlineSecurity -> [0 1]\n",
      "OnlineBackup -> [1 0]\n",
      "DeviceProtection -> [0 1]\n",
      "TechSupport -> [0 1]\n",
      "StreamingTV -> [0 1]\n",
      "StreamingMovies -> [0 1]\n",
      "Contract -> [0 1 2]\n",
      "PaperlessBilling -> [1 0]\n",
      "PaymentMethod -> [2 3 0 1]\n"
     ]
    }
   ],
   "source": [
    "def labelencode(columnlabel):\n",
    "    data1[columnlabel]=LabelEncoder().fit_transform(data1[columnlabel])\n",
    "for i in range(0,len(dataobject.columns)):\n",
    "    labelencode(dataobject.columns[i])\n",
    "for i in range(0,len(dataobject.columns)):\n",
    "    uni(dataobject.columns[i])"
   ]
  },
  {
   "cell_type": "markdown",
   "id": "545532de",
   "metadata": {},
   "source": [
    "## 五、构建模型"
   ]
  },
  {
   "cell_type": "markdown",
   "id": "868f6a80",
   "metadata": {},
   "source": [
    "### 1. 建立训练数据集和测试数据集"
   ]
  },
  {
   "cell_type": "code",
   "execution_count": 83,
   "id": "f7376392",
   "metadata": {},
   "outputs": [],
   "source": [
    "X=data1\n",
    "y=data['Churn'].values\n",
    "sss=StratifiedShuffleSplit(n_splits=5,test_size=0.2,random_state=0)#原数据中训练集和测试集所占的比重为4:1，\n",
    "#由于标签分布不均衡，因此选择交叉验证的方法，这里设定为五折交叉验证，即每次训练时，将训练集中的数据划分为5份，其中一份作为验证集"
   ]
  },
  {
   "cell_type": "code",
   "execution_count": 84,
   "id": "41159a1a",
   "metadata": {},
   "outputs": [
    {
     "name": "stdout",
     "output_type": "stream",
     "text": [
      "train: [3780 1588 2927 ... 3956 6130 6814] test: [5126 2423 2498 ... 6703 6618 6010]\n",
      "train: [6916 6953 5388 ... 6156 3262 3471] test: [4097 4734 2309 ... 1278 1724 5508]\n",
      "train: [1218 2877 3756 ...  848 4568 6967] test: [ 133 1822 5303 ... 3150 5611 4569]\n",
      "train: [2552 4723 2055 ... 4030 2165 1994] test: [ 233  438 4434 ... 4625 1121 3422]\n",
      "train: [4040 1561 6463 ... 2550 6727 4009] test: [4581 3898 3153 ... 2095 1765 2249]\n"
     ]
    }
   ],
   "source": [
    "for train_index,test_index in sss.split(X,y):\n",
    "    print('train:',train_index,'test:',test_index)\n",
    "    X_train,X_test=X.iloc[train_index],X.iloc[test_index]\n",
    "    y_train,y_test=y[train_index],y[test_index]"
   ]
  },
  {
   "cell_type": "code",
   "execution_count": 85,
   "id": "565b7256",
   "metadata": {},
   "outputs": [
    {
     "name": "stdout",
     "output_type": "stream",
     "text": [
      "原始数据特征： (7032, 17) 训练数据特征： (5625, 17) 测试数据特征： (1407, 17)\n",
      "原始数据标签： (7032,) 训练数据标签： (5625,) 测试数据标签： (1407,)\n"
     ]
    }
   ],
   "source": [
    "print('原始数据特征：',X.shape,'训练数据特征：',X_train.shape,'测试数据特征：',X_test.shape)\n",
    "print('原始数据标签：',y.shape,'训练数据标签：',y_train.shape,'测试数据标签：',y_test.shape)"
   ]
  },
  {
   "cell_type": "markdown",
   "id": "5dd226c6",
   "metadata": {},
   "source": [
    "### 2.选择机器学习算法"
   ]
  },
  {
   "cell_type": "code",
   "execution_count": 86,
   "id": "c522c298",
   "metadata": {},
   "outputs": [],
   "source": [
    "Classifiers=[['Random Forest',RandomForestClassifier()],\n",
    "             ['Support Vector Machine',SVC()],\n",
    "             ['LogisticRegression',LogisticRegression()],\n",
    "             ['KNN',KNeighborsClassifier(n_neighbors=5)],\n",
    "             ['Naive Bayes',GaussianNB()],\n",
    "             ['Decision Tree',DecisionTreeClassifier()],\n",
    "             ['AdaBoostClassifier',AdaBoostClassifier()],\n",
    "             ['GradientBoostingClassifier',GradientBoostingClassifier()],\n",
    "             ['XGB',XGBClassifier()],\n",
    "             ['CatBoost',CatBoostClassifier(logging_level='Silent')]\n",
    "            ]"
   ]
  },
  {
   "cell_type": "markdown",
   "id": "9999dc47",
   "metadata": {},
   "source": [
    "### 3. 训练模型"
   ]
  },
  {
   "cell_type": "code",
   "execution_count": 122,
   "id": "8be3994a",
   "metadata": {},
   "outputs": [
    {
     "name": "stderr",
     "output_type": "stream",
     "text": [
      "F:\\anaconda\\lib\\site-packages\\xgboost\\sklearn.py:1224: UserWarning: The use of label encoder in XGBClassifier is deprecated and will be removed in a future release. To remove this warning, do the following: 1) Pass option use_label_encoder=False when constructing XGBClassifier object; and 2) Encode your labels (y) as integers starting with 0, i.e. 0, 1, 2, ..., [num_class - 1].\n",
      "  warnings.warn(label_encoder_deprecation_msg, UserWarning)\n",
      "F:\\anaconda\\lib\\site-packages\\xgboost\\data.py:262: FutureWarning: pandas.Int64Index is deprecated and will be removed from pandas in a future version. Use pandas.Index with the appropriate dtype instead.\n",
      "  elif isinstance(data.columns, (pd.Int64Index, pd.RangeIndex)):\n"
     ]
    },
    {
     "name": "stdout",
     "output_type": "stream",
     "text": [
      "[20:38:26] WARNING: C:/Users/Administrator/workspace/xgboost-win64_release_1.5.1/src/learner.cc:1115: Starting in XGBoost 1.3.0, the default evaluation metric used with the objective 'binary:logistic' was changed from 'error' to 'logloss'. Explicitly set eval_metric if you'd like to restore the old behavior.\n"
     ]
    }
   ],
   "source": [
    "Classify_result=[]\n",
    "names=[]\n",
    "prediction=[]\n",
    "for name,classifier in Classifiers:\n",
    "    classifier = classifier\n",
    "    classifier.fit(X_train,y_train)\n",
    "    y_pred=classifier.predict(X_test)\n",
    "    recall=recall_score(y_test,y_pred)\n",
    "    precision=precision_score(y_test,y_pred)\n",
    "    f1score=f1_score(y_test,y_pred)\n",
    "    #class_eva=pd.DataFrame([recall,precision,f1score])\n",
    "    Classify_result.append([recall,precision,f1score])\n",
    "    #name=pd.Series(name)\n",
    "    names.append(name)\n",
    "    y_pred=pd.Series(y_pred)\n",
    "    prediction.append(y_pred)"
   ]
  },
  {
   "cell_type": "markdown",
   "id": "3160d1dc",
   "metadata": {},
   "source": [
    "### 4. 评估模型"
   ]
  },
  {
   "cell_type": "code",
   "execution_count": 128,
   "id": "1c3f4367",
   "metadata": {},
   "outputs": [
    {
     "data": {
      "text/html": [
       "<div>\n",
       "<style scoped>\n",
       "    .dataframe tbody tr th:only-of-type {\n",
       "        vertical-align: middle;\n",
       "    }\n",
       "\n",
       "    .dataframe tbody tr th {\n",
       "        vertical-align: top;\n",
       "    }\n",
       "\n",
       "    .dataframe thead th {\n",
       "        text-align: right;\n",
       "    }\n",
       "</style>\n",
       "<table border=\"1\" class=\"dataframe\">\n",
       "  <thead>\n",
       "    <tr style=\"text-align: right;\">\n",
       "      <th></th>\n",
       "      <th>recall</th>\n",
       "      <th>precision</th>\n",
       "      <th>f1score</th>\n",
       "    </tr>\n",
       "  </thead>\n",
       "  <tbody>\n",
       "    <tr>\n",
       "      <th>Random Forest</th>\n",
       "      <td>0.483957</td>\n",
       "      <td>0.641844</td>\n",
       "      <td>0.551829</td>\n",
       "    </tr>\n",
       "    <tr>\n",
       "      <th>Support Vector Machine</th>\n",
       "      <td>0.483957</td>\n",
       "      <td>0.688213</td>\n",
       "      <td>0.568289</td>\n",
       "    </tr>\n",
       "    <tr>\n",
       "      <th>LogisticRegression</th>\n",
       "      <td>0.548128</td>\n",
       "      <td>0.652866</td>\n",
       "      <td>0.595930</td>\n",
       "    </tr>\n",
       "    <tr>\n",
       "      <th>KNN</th>\n",
       "      <td>0.478610</td>\n",
       "      <td>0.561129</td>\n",
       "      <td>0.516595</td>\n",
       "    </tr>\n",
       "    <tr>\n",
       "      <th>Naive Bayes</th>\n",
       "      <td>0.740642</td>\n",
       "      <td>0.552894</td>\n",
       "      <td>0.633143</td>\n",
       "    </tr>\n",
       "    <tr>\n",
       "      <th>Decision Tree</th>\n",
       "      <td>0.491979</td>\n",
       "      <td>0.490667</td>\n",
       "      <td>0.491322</td>\n",
       "    </tr>\n",
       "    <tr>\n",
       "      <th>AdaBoostClassifier</th>\n",
       "      <td>0.548128</td>\n",
       "      <td>0.672131</td>\n",
       "      <td>0.603829</td>\n",
       "    </tr>\n",
       "    <tr>\n",
       "      <th>GradientBoostingClassifier</th>\n",
       "      <td>0.545455</td>\n",
       "      <td>0.673267</td>\n",
       "      <td>0.602659</td>\n",
       "    </tr>\n",
       "    <tr>\n",
       "      <th>XGB</th>\n",
       "      <td>0.516043</td>\n",
       "      <td>0.620579</td>\n",
       "      <td>0.563504</td>\n",
       "    </tr>\n",
       "    <tr>\n",
       "      <th>CatBoost</th>\n",
       "      <td>0.532086</td>\n",
       "      <td>0.658940</td>\n",
       "      <td>0.588757</td>\n",
       "    </tr>\n",
       "  </tbody>\n",
       "</table>\n",
       "</div>"
      ],
      "text/plain": [
       "                              recall  precision   f1score\n",
       "Random Forest               0.483957   0.641844  0.551829\n",
       "Support Vector Machine      0.483957   0.688213  0.568289\n",
       "LogisticRegression          0.548128   0.652866  0.595930\n",
       "KNN                         0.478610   0.561129  0.516595\n",
       "Naive Bayes                 0.740642   0.552894  0.633143\n",
       "Decision Tree               0.491979   0.490667  0.491322\n",
       "AdaBoostClassifier          0.548128   0.672131  0.603829\n",
       "GradientBoostingClassifier  0.545455   0.673267  0.602659\n",
       "XGB                         0.516043   0.620579  0.563504\n",
       "CatBoost                    0.532086   0.658940  0.588757"
      ]
     },
     "execution_count": 128,
     "metadata": {},
     "output_type": "execute_result"
    }
   ],
   "source": [
    "result=pd.DataFrame(Classify_result)\n",
    "result.index=names\n",
    "result.columns=['recall','precision','f1score']\n",
    "result"
   ]
  },
  {
   "cell_type": "markdown",
   "id": "eb4047c2",
   "metadata": {},
   "source": [
    "由上表可知，朴素贝叶斯的F1分数为63.31%，选择此模型来预测用户是否流失效果比较好。"
   ]
  },
  {
   "cell_type": "markdown",
   "id": "04c63bd6",
   "metadata": {},
   "source": [
    "## 六、模型预测"
   ]
  },
  {
   "cell_type": "code",
   "execution_count": 129,
   "id": "bdc05e39",
   "metadata": {},
   "outputs": [
    {
     "data": {
      "text/html": [
       "<div>\n",
       "<style scoped>\n",
       "    .dataframe tbody tr th:only-of-type {\n",
       "        vertical-align: middle;\n",
       "    }\n",
       "\n",
       "    .dataframe tbody tr th {\n",
       "        vertical-align: top;\n",
       "    }\n",
       "\n",
       "    .dataframe thead th {\n",
       "        text-align: right;\n",
       "    }\n",
       "</style>\n",
       "<table border=\"1\" class=\"dataframe\">\n",
       "  <thead>\n",
       "    <tr style=\"text-align: right;\">\n",
       "      <th></th>\n",
       "      <th>customerID</th>\n",
       "      <th>Churn</th>\n",
       "    </tr>\n",
       "  </thead>\n",
       "  <tbody>\n",
       "    <tr>\n",
       "      <th>7033</th>\n",
       "      <td>9767-FFLEM</td>\n",
       "      <td>1</td>\n",
       "    </tr>\n",
       "    <tr>\n",
       "      <th>7034</th>\n",
       "      <td>0639-TSIQW</td>\n",
       "      <td>0</td>\n",
       "    </tr>\n",
       "    <tr>\n",
       "      <th>7035</th>\n",
       "      <td>8456-QDAVC</td>\n",
       "      <td>1</td>\n",
       "    </tr>\n",
       "    <tr>\n",
       "      <th>7036</th>\n",
       "      <td>7750-EYXWZ</td>\n",
       "      <td>0</td>\n",
       "    </tr>\n",
       "    <tr>\n",
       "      <th>7037</th>\n",
       "      <td>2569-WGERO</td>\n",
       "      <td>0</td>\n",
       "    </tr>\n",
       "    <tr>\n",
       "      <th>7038</th>\n",
       "      <td>6840-RESVB</td>\n",
       "      <td>0</td>\n",
       "    </tr>\n",
       "    <tr>\n",
       "      <th>7039</th>\n",
       "      <td>2234-XADUH</td>\n",
       "      <td>0</td>\n",
       "    </tr>\n",
       "    <tr>\n",
       "      <th>7040</th>\n",
       "      <td>4801-JZAZL</td>\n",
       "      <td>0</td>\n",
       "    </tr>\n",
       "    <tr>\n",
       "      <th>7041</th>\n",
       "      <td>8361-LTMKD</td>\n",
       "      <td>1</td>\n",
       "    </tr>\n",
       "    <tr>\n",
       "      <th>7042</th>\n",
       "      <td>3186-AJIEK</td>\n",
       "      <td>0</td>\n",
       "    </tr>\n",
       "  </tbody>\n",
       "</table>\n",
       "</div>"
      ],
      "text/plain": [
       "      customerID  Churn\n",
       "7033  9767-FFLEM      1\n",
       "7034  0639-TSIQW      0\n",
       "7035  8456-QDAVC      1\n",
       "7036  7750-EYXWZ      0\n",
       "7037  2569-WGERO      0\n",
       "7038  6840-RESVB      0\n",
       "7039  2234-XADUH      0\n",
       "7040  4801-JZAZL      0\n",
       "7041  8361-LTMKD      1\n",
       "7042  3186-AJIEK      0"
      ]
     },
     "execution_count": 129,
     "metadata": {},
     "output_type": "execute_result"
    }
   ],
   "source": [
    "#此数据集没有提供预测数据集，因此选取后十行作为需要预测的数据集\n",
    "pred_X = data1.tail(10)\n",
    "pre_id = customer_id.tail(10)\n",
    "model = GaussianNB()\n",
    "model.fit(X_train,y_train)\n",
    "pred_y = model.predict(pred_X)\n",
    "#输出预测结果\n",
    "predDf = pd.DataFrame({'customerID':pre_id,'Churn':pred_y})\n",
    "predDf"
   ]
  },
  {
   "cell_type": "markdown",
   "id": "04f0d530",
   "metadata": {},
   "source": [
    "## 七、结论"
   ]
  },
  {
   "cell_type": "markdown",
   "id": "4848553a",
   "metadata": {},
   "source": [
    "根据上述分析，我们可以得出如下结论：\n",
    "（1）老年用户和没有配偶、经济不独立的学生用户更容易流失；  \n",
    "（2）性别和电话服务对流失率几乎没有影响；  \n",
    "（3）提供多线业务、互联网服务、网络安全服务、在线备份业务、设备保护业务等网络业务能够降低流失率；  \n",
    "（4）签订合同的时长越短的用户越容易流失；  \n",
    "（5）采用电子支付手段的用户比其他支付手段的用户更容易流失。  \n",
    "另外根据用户流失预测模型，我们可以提前预测哪些用户可能会流失，精准定位到这些用户，为他们推送一些服务或对他们进行电话访问，从而降低流失率。"
   ]
  }
 ],
 "metadata": {
  "kernelspec": {
   "display_name": "Python 3",
   "language": "python",
   "name": "python3"
  },
  "language_info": {
   "codemirror_mode": {
    "name": "ipython",
    "version": 3
   },
   "file_extension": ".py",
   "mimetype": "text/x-python",
   "name": "python",
   "nbconvert_exporter": "python",
   "pygments_lexer": "ipython3",
   "version": "3.8.8"
  }
 },
 "nbformat": 4,
 "nbformat_minor": 5
}
